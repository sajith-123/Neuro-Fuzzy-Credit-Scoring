{
 "cells": [
  {
   "cell_type": "code",
   "execution_count": 3,
   "id": "bca380f4",
   "metadata": {},
   "outputs": [
    {
     "data": {
      "text/html": [
       "<div>\n",
       "<style scoped>\n",
       "    .dataframe tbody tr th:only-of-type {\n",
       "        vertical-align: middle;\n",
       "    }\n",
       "\n",
       "    .dataframe tbody tr th {\n",
       "        vertical-align: top;\n",
       "    }\n",
       "\n",
       "    .dataframe thead th {\n",
       "        text-align: right;\n",
       "    }\n",
       "</style>\n",
       "<table border=\"1\" class=\"dataframe\">\n",
       "  <thead>\n",
       "    <tr style=\"text-align: right;\">\n",
       "      <th></th>\n",
       "      <th>person_age</th>\n",
       "      <th>person_income</th>\n",
       "      <th>person_emp_length</th>\n",
       "      <th>loan_amnt</th>\n",
       "      <th>loan_int_rate</th>\n",
       "      <th>loan_status</th>\n",
       "      <th>loan_percent_income</th>\n",
       "      <th>cb_person_cred_hist_length</th>\n",
       "      <th>person_home_ownership</th>\n",
       "      <th>loan_intent</th>\n",
       "      <th>loan_grade</th>\n",
       "      <th>cb_person_default_on_file</th>\n",
       "    </tr>\n",
       "  </thead>\n",
       "  <tbody>\n",
       "    <tr>\n",
       "      <th>0</th>\n",
       "      <td>23</td>\n",
       "      <td>62500</td>\n",
       "      <td>7.0</td>\n",
       "      <td>26000</td>\n",
       "      <td>11.71</td>\n",
       "      <td>1</td>\n",
       "      <td>0.42</td>\n",
       "      <td>2</td>\n",
       "      <td>3</td>\n",
       "      <td>3</td>\n",
       "      <td>1</td>\n",
       "      <td>0</td>\n",
       "    </tr>\n",
       "    <tr>\n",
       "      <th>1</th>\n",
       "      <td>23</td>\n",
       "      <td>120000</td>\n",
       "      <td>1.0</td>\n",
       "      <td>25600</td>\n",
       "      <td>12.69</td>\n",
       "      <td>0</td>\n",
       "      <td>0.21</td>\n",
       "      <td>3</td>\n",
       "      <td>3</td>\n",
       "      <td>1</td>\n",
       "      <td>1</td>\n",
       "      <td>0</td>\n",
       "    </tr>\n",
       "    <tr>\n",
       "      <th>2</th>\n",
       "      <td>22</td>\n",
       "      <td>60000</td>\n",
       "      <td>0.0</td>\n",
       "      <td>25475</td>\n",
       "      <td>10.99</td>\n",
       "      <td>1</td>\n",
       "      <td>0.42</td>\n",
       "      <td>3</td>\n",
       "      <td>3</td>\n",
       "      <td>5</td>\n",
       "      <td>1</td>\n",
       "      <td>0</td>\n",
       "    </tr>\n",
       "    <tr>\n",
       "      <th>3</th>\n",
       "      <td>23</td>\n",
       "      <td>83000</td>\n",
       "      <td>7.0</td>\n",
       "      <td>25300</td>\n",
       "      <td>10.99</td>\n",
       "      <td>1</td>\n",
       "      <td>0.30</td>\n",
       "      <td>3</td>\n",
       "      <td>3</td>\n",
       "      <td>1</td>\n",
       "      <td>1</td>\n",
       "      <td>0</td>\n",
       "    </tr>\n",
       "    <tr>\n",
       "      <th>4</th>\n",
       "      <td>21</td>\n",
       "      <td>42500</td>\n",
       "      <td>3.0</td>\n",
       "      <td>25000</td>\n",
       "      <td>12.73</td>\n",
       "      <td>1</td>\n",
       "      <td>0.59</td>\n",
       "      <td>3</td>\n",
       "      <td>3</td>\n",
       "      <td>1</td>\n",
       "      <td>2</td>\n",
       "      <td>1</td>\n",
       "    </tr>\n",
       "  </tbody>\n",
       "</table>\n",
       "</div>"
      ],
      "text/plain": [
       "   person_age  person_income  person_emp_length  loan_amnt  loan_int_rate  \\\n",
       "0          23          62500                7.0      26000          11.71   \n",
       "1          23         120000                1.0      25600          12.69   \n",
       "2          22          60000                0.0      25475          10.99   \n",
       "3          23          83000                7.0      25300          10.99   \n",
       "4          21          42500                3.0      25000          12.73   \n",
       "\n",
       "   loan_status  loan_percent_income  cb_person_cred_hist_length  \\\n",
       "0            1                 0.42                           2   \n",
       "1            0                 0.21                           3   \n",
       "2            1                 0.42                           3   \n",
       "3            1                 0.30                           3   \n",
       "4            1                 0.59                           3   \n",
       "\n",
       "   person_home_ownership  loan_intent  loan_grade  cb_person_default_on_file  \n",
       "0                      3            3           1                          0  \n",
       "1                      3            1           1                          0  \n",
       "2                      3            5           1                          0  \n",
       "3                      3            1           1                          0  \n",
       "4                      3            1           2                          1  "
      ]
     },
     "execution_count": 3,
     "metadata": {},
     "output_type": "execute_result"
    }
   ],
   "source": [
    "import pandas as pd\n",
    "import numpy as np\n",
    "import seaborn as sns\n",
    "import matplotlib.pyplot as plt\n",
    "\n",
    "import timeit\n",
    "\n",
    "from sklearn.metrics import confusion_matrix, classification_report, precision_recall_curve\n",
    "from sklearn.metrics import roc_auc_score, roc_curve, f1_score, precision_score, recall_score, accuracy_score, auc\n",
    "from hmeasure import h_score\n",
    "from sklearn.model_selection import train_test_split\n",
    "from sklearn.preprocessing import StandardScaler\n",
    "from sklearn.metrics import classification_report, precision_score, recall_score, f1_score, precision_recall_fscore_support,roc_auc_score, accuracy_score\n",
    "from sklearn.model_selection import cross_val_score\n",
    "from sklearn.preprocessing import LabelEncoder\n",
    "from sklearn.model_selection import StratifiedKFold\n",
    "from sklearn.pipeline import Pipeline\n",
    "\n",
    "import optuna\n",
    "\n",
    "import tensorflow as tf\n",
    "from tensorflow import keras\n",
    "from tensorflow.keras import layers\n",
    "from tensorflow.keras.callbacks import EarlyStopping\n",
    "from tensorflow.keras import regularizers\n",
    "from keras.layers import Dense, Dropout\n",
    "from keras.regularizers import l2\n",
    "from keras.layers import LeakyReLU\n",
    "from keras.wrappers.scikit_learn import KerasClassifier\n",
    "from keras import initializers\n",
    "from keras.models import Sequential\n",
    "from keras.optimizers import Adam\n",
    "\n",
    "# Read the data using csv\n",
    "path_train = 'credit_risk-dataset-cleanedtraining.csv'\n",
    "df_train = pd.read_csv(path_train, encoding = \"ISO-8859-1\")\n",
    "\n",
    "path_test = 'credit_risk-dataset-cleanedtesting.csv'\n",
    "df_test = pd.read_csv(path_test, encoding = \"ISO-8859-1\")\n",
    "\n",
    "# Prin 5 forst lines of df\n",
    "df_train.head()"
   ]
  },
  {
   "cell_type": "code",
   "execution_count": 6,
   "id": "d099f634",
   "metadata": {},
   "outputs": [],
   "source": [
    "X_test, y_test = df_test.iloc[:,:-1], df_test.iloc[:,-1]\n",
    "\n",
    "X_train, y_train = df_train.iloc[:,:-1], df_train.iloc[:,-1]\n",
    "\n",
    "X_train, X_val, y_train, y_val = train_test_split(X_train, y_train, stratify=y_train, test_size=0.2)"
   ]
  },
  {
   "cell_type": "code",
   "execution_count": 7,
   "id": "68c98a8f",
   "metadata": {},
   "outputs": [],
   "source": [
    "class tuning_methods:\n",
    "    \n",
    "    def __init__(self, X_train, X_val, y_train,  y_val, X_test, y_test):\n",
    "        \n",
    "        self.X_train = X_train\n",
    "        self.X_val = X_val\n",
    "        self.X_test = X_test\n",
    "        self.y_test = y_test\n",
    "        self.y_train = y_train\n",
    "        self.y_val = y_val\n",
    "    \n",
    "  # Define the Keras model\n",
    "    def create_model(self, units_1, alpha_1, dropout_1, l2_kern_1, l2_bias_1,\n",
    "                 units_2, alpha_2, dropout_2, l2_kern_2, l2_bias_2,\n",
    "                 units_3, alpha_3, dropout_3, l2_kern_3, l2_bias_3,\n",
    "                 lr, batch_size):        # \n",
    "    \n",
    "        model = Sequential()\n",
    "    \n",
    "        model.add(Dense(units_1, \n",
    "                input_shape=(X_train.shape[1],), \n",
    "                activation = LeakyReLU(alpha=alpha_1),\n",
    "                kernel_regularizer = l2(l2_kern_1),\n",
    "                bias_regularizer = l2(l2_bias_1),\n",
    "                kernel_initializer = initializers.RandomNormal(mean=0.0, stddev=0.05)\n",
    "        ))\n",
    "        model.add(Dropout(dropout_1))\n",
    "    \n",
    "        model.add(Dense(units_2,\n",
    "                    activation =LeakyReLU(alpha=alpha_2),\n",
    "                    kernel_regularizer = l2(l2_kern_2),\n",
    "                    bias_regularizer = l2(l2_bias_2),\n",
    "                    kernel_initializer = initializers.RandomNormal(mean=0.0, stddev=0.05)\n",
    "        ))\n",
    "        model.add(Dropout(dropout_2))\n",
    "    \n",
    "        model.add(Dense(units_3,\n",
    "                        activation =LeakyReLU(alpha=alpha_3),\n",
    "                        kernel_regularizer = l2(l2_kern_3),\n",
    "                        bias_regularizer = l2(l2_bias_3),\n",
    "                        kernel_initializer = initializers.RandomNormal(mean=0.0, stddev=0.05)\n",
    "        ))\n",
    "        model.add(Dropout(dropout_3))\n",
    "    \n",
    "        model.add(Dense(1, activation='sigmoid'))\n",
    "    \n",
    "        optimizer = Adam(learning_rate=lr)\n",
    "        model.compile(optimizer=optimizer,\n",
    "                  loss='binary_crossentropy', \n",
    "                  metrics=['AUC'])\n",
    "        return model\n",
    "\n",
    "    \n",
    "    # Define the Optuna study\n",
    "    def objective(self, trial):\n",
    "        \n",
    "        # Define the pipeline\n",
    "        pipeline = Pipeline([\n",
    "                ('scaler', StandardScaler()),\n",
    "                ('classifier', KerasClassifier(build_fn=self.create_model, verbose=0))\n",
    "                ])\n",
    "        # Define hyperparameters range values for tuning\n",
    "        units_1 = trial.suggest_int('units_1', 2, 40)\n",
    "        units_2 = trial.suggest_int('units_2', 2, 40)\n",
    "        units_3 = trial.suggest_int('units_3', 2, 40)\n",
    "        alpha_1 = trial.suggest_float('alpha_1', 0.01, 0.1)\n",
    "        alpha_2 = trial.suggest_float('alpha_2', 0.01, 0.1)\n",
    "        alpha_3 = trial.suggest_float('alpha_3', 0.01, 0.1)\n",
    "        dropout_1 = trial.suggest_float(\"dropout_1\", 0.2, 0.5)    \n",
    "        dropout_2 = trial.suggest_float(\"dropout_2\", 0.2, 0.5)    \n",
    "        dropout_3 = trial.suggest_float(\"dropout_3\", 0.2, 0.5)    \n",
    "        l2_kern_1 = trial.suggest_float(\"l2_kern_1\",  1e-5, 1e-2, log=True)\n",
    "        l2_kern_2 = trial.suggest_float(\"l2_kern_2\",  1e-5, 1e-2, log=True)\n",
    "        l2_kern_3 = trial.suggest_float(\"l2_kern_3\",  1e-5, 1e-2, log=True)\n",
    "        l2_bias_1 = trial.suggest_float(\"l2_bias_1\",  1e-5, 1e-2, log=True)\n",
    "        l2_bias_2 = trial.suggest_float(\"l2_bias_2\",  1e-5, 1e-2, log=True)\n",
    "        l2_bias_3 = trial.suggest_float(\"l2_bias_3\",  1e-5, 1e-2, log=True)\n",
    "        lr = trial.suggest_float(\"lr\", 5e-5, 1e-2, log=True)\n",
    "        batch_size = trial.suggest_categorical('batch_size', [16, 32, 64, 128, 256, 512, 1024])\n",
    "        epochs = 200\n",
    "        validation_data = (self.X_val, self.y_val)\n",
    "        early_stopping = EarlyStopping(monitor='loss', patience=5, restore_best_weights=True)\n",
    "        \n",
    "        # Set parameters into pipeline\n",
    "        pipeline.set_params(classifier__units_1=units_1,\n",
    "                        classifier__alpha_1=alpha_1,\n",
    "                        classifier__l2_kern_1=l2_kern_1,\n",
    "                        classifier__l2_bias_1=l2_bias_1,\n",
    "                        classifier__dropout_1=dropout_1,\n",
    "                        classifier__units_2=units_2,\n",
    "                        classifier__alpha_2=alpha_2,\n",
    "                        classifier__l2_kern_2=l2_kern_2,\n",
    "                        classifier__l2_bias_2=l2_bias_2,\n",
    "                        classifier__dropout_2=dropout_2,\n",
    "                        classifier__units_3=units_3,\n",
    "                        classifier__alpha_3=alpha_3,\n",
    "                        classifier__l2_kern_3=l2_kern_3,\n",
    "                        classifier__l2_bias_3=l2_bias_3,\n",
    "                        classifier__dropout_3=dropout_3,\n",
    "                        classifier__lr=lr,\n",
    "                        classifier__epochs = epochs,\n",
    "                        classifier__batch_size = batch_size,\n",
    "                        classifier__validation_data = validation_data,\n",
    "                        classifier__callbacks=[early_stopping])\n",
    "        \n",
    "        # Apply cross validation\n",
    "        kfold = StratifiedKFold(n_splits=3, shuffle=True, random_state=2023)\n",
    "        scores = cross_val_score(pipeline, self.X_train, self.y_train, cv=kfold, scoring=\"roc_auc\", error_score='raise')\n",
    "    \n",
    "        if trial.should_prune():\n",
    "                raise optuna.TrialPruned()\n",
    "\n",
    "        return np.mean(scores)\n",
    "\n",
    "    def Tuning(self, n_trials=100, sampler = optuna.samplers.TPESampler()):\n",
    "        \n",
    "        start = timeit.default_timer()\n",
    "\n",
    "        study = optuna.create_study(direction=\"maximize\",             \n",
    "                            sampler=sampler, \n",
    "                            pruner= optuna.pruners.MedianPruner()\n",
    "                           )\n",
    "        study.optimize(self.objective, n_trials=n_trials)  # to be converged it needs atleast 200 trials \n",
    "\n",
    "        print(\"Number of finished trials: {}\".format(len(study.trials)))\n",
    "\n",
    "        print(\"Best trial:\")\n",
    "        trial = study.best_trial\n",
    "\n",
    "        print(\"  Value: {}\".format(trial.value))\n",
    "\n",
    "        stop = timeit.default_timer()\n",
    "\n",
    "        time_opt = stop - start\n",
    "        params_TPE = []\n",
    "\n",
    "        for key, value in trial.params.items():\n",
    "            params_TPE.append([key,value])\n",
    "            print(\"    {}: {}\".format(key, value))\n",
    "            \n",
    "        params_TPE.append([\"time\",round(time_opt/60,2)])\n",
    "\n",
    "        return params_TPE\n",
    "    \n",
    "    def Best_MLP_model(self, params):\n",
    "        \n",
    "        # Define hyperpameters\n",
    "        units_1 = params[0][1]\n",
    "        units_2 = params[1][1]\n",
    "        units_3 = params[2][1]\n",
    "        alpha_1 = np.round(params[3][1],3)\n",
    "        alpha_2 = np.round(params[4][1],3)\n",
    "        alpha_3 = np.round(params[5][1],3)\n",
    "        dropout_1 = np.round(params[6][1],2)\n",
    "        dropout_2 = np.round(params[7][1],2)\n",
    "        dropout_3 = np.round(params[8][1],2)\n",
    "        kernel_regularizer_1=np.round(params[9][1],5)\n",
    "        kernel_regularizer_2=np.round(params[10][1],5)\n",
    "        kernel_regularizer_3=np.round(params[11][1],5)\n",
    "        bias_regularizer_1=np.round(params[12][1],5)\n",
    "        bias_regularizer_2=np.round(params[13][1],5)\n",
    "        bias_regularizer_3=np.round(params[14][1],5)\n",
    "        lr = np.round(params[15][1],5)\n",
    "        batchs = params[16][1]\n",
    "    \n",
    "        # Define the pipeline\n",
    "        pipeline = Pipeline([\n",
    "                    ('scaler', StandardScaler()),\n",
    "                    ('classifier', KerasClassifier(build_fn=tun.create_model, verbose=0))\n",
    "                ])\n",
    "\n",
    "        # Set hyperparameters\n",
    "        epochs = 200\n",
    "        validation_data = (self.X_val, self.y_val)\n",
    "        early_stopping = EarlyStopping(monitor='loss', patience=5, restore_best_weights=True)\n",
    "        pipeline.set_params(classifier__units_1=units_1,\n",
    "                            classifier__alpha_1 = alpha_1,\n",
    "                            classifier__l2_kern_1=kernel_regularizer_1,\n",
    "                            classifier__l2_bias_1=bias_regularizer_1,\n",
    "                            classifier__dropout_1=dropout_1,\n",
    "                            classifier__units_2=units_2,\n",
    "                            classifier__alpha_2=alpha_2,\n",
    "                            classifier__l2_kern_2=kernel_regularizer_2,\n",
    "                            classifier__l2_bias_2=bias_regularizer_2,\n",
    "                            classifier__dropout_2=dropout_2,\n",
    "                            classifier__units_3=units_3,\n",
    "                            classifier__alpha_3=alpha_3,\n",
    "                            classifier__l2_kern_3=kernel_regularizer_3,\n",
    "                            classifier__l2_bias_3=bias_regularizer_3,\n",
    "                            classifier__dropout_3=dropout_3,\n",
    "                            classifier__lr=lr,\n",
    "                            classifier__epochs = epochs,\n",
    "                            classifier__batch_size = batchs,\n",
    "                            classifier__validation_data = validation_data,\n",
    "                            classifier__callbacks=[early_stopping])\n",
    "        \n",
    "        # Use cross validation to monitor the deferrence between training and testing data as an evidence of overfitting\n",
    "        kfold = StratifiedKFold(n_splits=5, shuffle=True, random_state=2023)\n",
    "        scores_train = cross_val_score(pipeline, self.X_train, self.y_train, cv=kfold, scoring=\"roc_auc\", error_score='raise')\n",
    "        mean_score_train = np.mean(scores_train)\n",
    "\n",
    "        kfold = StratifiedKFold(n_splits=5, shuffle=True, random_state=2023)\n",
    "        scores_test = cross_val_score(pipeline, self.X_test, self.y_test, cv=kfold, scoring=\"roc_auc\", error_score='raise')\n",
    "        mean_score_test = np.mean(scores_test)\n",
    "        print(f\"Train mean AUC score is {mean_score_train} while test mean AUC score is {mean_score_test}.\")\n",
    "      \n",
    "        # Fit the pipeline to the training data\n",
    "        history = pipeline.fit(self.X_train, self.y_train)\n",
    "\n",
    "        #score = pipeline.evaluate(X_test, y_test, verbose=0)  \n",
    "\n",
    "        y_pred_prob_tpe = pipeline.predict(self.X_test)\n",
    "\n",
    "        y_pred_tpe = y_pred_prob_tpe.round()\n",
    "\n",
    "        print(classification_report(self.y_test, y_pred_tpe, target_names = ['No','Yes']))\n",
    "\n",
    "        acc = accuracy_score(self.y_test, y_pred_tpe)\n",
    "        pre = precision_score(self.y_test, y_pred_tpe)\n",
    "        rec = recall_score(self.y_test, y_pred_tpe)\n",
    "        f1 = f1_score(self.y_test, y_pred_tpe)\n",
    "        auc = roc_auc_score(self.y_test, y_pred_tpe)\n",
    "        \n",
    "        y_test_array = np.array(self.y_test)\n",
    "        y_pred_tpe_array = np.array(y_pred_tpe)\n",
    "        H_measure = h_score(y_test_array, y_pred_tpe_array)\n",
    "\n",
    "        opt = [acc, pre, rec, f1, auc, H_measure]\n",
    "\n",
    "        scores = pd.DataFrame(opt, index =['Accuracy', 'Precision', 'Recall', 'F1-score', 'AUC', \"H-measure\"], \n",
    "                              columns =['Tree-structured Parzen Estimator'])\n",
    "        \n",
    "        return scores "
   ]
  },
  {
   "cell_type": "code",
   "execution_count": 12,
   "id": "3df05190",
   "metadata": {},
   "outputs": [
    {
     "name": "stderr",
     "output_type": "stream",
     "text": [
      "[I 2024-12-01 15:30:42,846] A new study created in memory with name: no-name-a301ee6c-5284-4eba-ac6c-f951edc813dd\n",
      "C:\\Users\\navee\\AppData\\Roaming\\Python\\Python37\\site-packages\\ipykernel_launcher.py:60: DeprecationWarning: KerasClassifier is deprecated, use Sci-Keras (https://github.com/adriangb/scikeras) instead. See https://www.adriangb.com/scikeras/stable/migration.html for help migrating.\n"
     ]
    },
    {
     "name": "stdout",
     "output_type": "stream",
     "text": [
      "195/195 [==============================] - 0s 1ms/step\n",
      "195/195 [==============================] - 0s 1ms/step\n",
      "195/195 [==============================] - 0s 1ms/step\n"
     ]
    },
    {
     "name": "stderr",
     "output_type": "stream",
     "text": [
      "[I 2024-12-01 15:31:41,914] Trial 0 finished with value: 0.8977993985489211 and parameters: {'units_1': 11, 'units_2': 17, 'units_3': 33, 'alpha_1': 0.09465647988800066, 'alpha_2': 0.055046441086712763, 'alpha_3': 0.03160754959679402, 'dropout_1': 0.4794835023897406, 'dropout_2': 0.2627698059165294, 'dropout_3': 0.27172189330972335, 'l2_kern_1': 2.5949609366162603e-05, 'l2_kern_2': 0.00015717373066867477, 'l2_kern_3': 9.882898312750379e-05, 'l2_bias_1': 9.83880485782341e-05, 'l2_bias_2': 7.819880675895657e-05, 'l2_bias_3': 0.005563504099048016, 'lr': 0.00046154899437148803, 'batch_size': 128}. Best is trial 0 with value: 0.8977993985489211.\n",
      "C:\\Users\\navee\\AppData\\Roaming\\Python\\Python37\\site-packages\\ipykernel_launcher.py:60: DeprecationWarning: KerasClassifier is deprecated, use Sci-Keras (https://github.com/adriangb/scikeras) instead. See https://www.adriangb.com/scikeras/stable/migration.html for help migrating.\n"
     ]
    },
    {
     "name": "stdout",
     "output_type": "stream",
     "text": [
      "195/195 [==============================] - 0s 1ms/step\n",
      "195/195 [==============================] - 0s 1ms/step\n",
      "195/195 [==============================] - 0s 2ms/step\n"
     ]
    },
    {
     "name": "stderr",
     "output_type": "stream",
     "text": [
      "[I 2024-12-01 15:32:27,488] Trial 1 finished with value: 0.8980080310816273 and parameters: {'units_1': 22, 'units_2': 6, 'units_3': 30, 'alpha_1': 0.042288936539744186, 'alpha_2': 0.03047613190205814, 'alpha_3': 0.02407235236624014, 'dropout_1': 0.2278603990131359, 'dropout_2': 0.35225032548193164, 'dropout_3': 0.4249472923124793, 'l2_kern_1': 0.0015013299930945123, 'l2_kern_2': 9.574909236319662e-05, 'l2_kern_3': 0.0005407669982463723, 'l2_bias_1': 4.4613200805419135e-05, 'l2_bias_2': 1.7937718085781485e-05, 'l2_bias_3': 0.0020392538320976937, 'lr': 0.00026339321748638974, 'batch_size': 512}. Best is trial 1 with value: 0.8980080310816273.\n",
      "C:\\Users\\navee\\AppData\\Roaming\\Python\\Python37\\site-packages\\ipykernel_launcher.py:60: DeprecationWarning: KerasClassifier is deprecated, use Sci-Keras (https://github.com/adriangb/scikeras) instead. See https://www.adriangb.com/scikeras/stable/migration.html for help migrating.\n"
     ]
    },
    {
     "name": "stdout",
     "output_type": "stream",
     "text": [
      "195/195 [==============================] - 0s 2ms/step\n",
      "195/195 [==============================] - 0s 1ms/step\n",
      "195/195 [==============================] - 0s 1ms/step\n"
     ]
    },
    {
     "name": "stderr",
     "output_type": "stream",
     "text": [
      "[I 2024-12-01 15:33:35,423] Trial 2 finished with value: 0.8974031156088471 and parameters: {'units_1': 36, 'units_2': 13, 'units_3': 40, 'alpha_1': 0.07849531769404966, 'alpha_2': 0.08109881288968437, 'alpha_3': 0.0314564481393053, 'dropout_1': 0.30679219223955295, 'dropout_2': 0.49051812648997856, 'dropout_3': 0.4765124645063797, 'l2_kern_1': 0.001582691117806951, 'l2_kern_2': 0.0005215148633095204, 'l2_kern_3': 0.0018810910293122238, 'l2_bias_1': 0.0025311064926792945, 'l2_bias_2': 1.1517209395472577e-05, 'l2_bias_3': 0.00365498207051125, 'lr': 0.0018802333932344628, 'batch_size': 128}. Best is trial 1 with value: 0.8980080310816273.\n",
      "C:\\Users\\navee\\AppData\\Roaming\\Python\\Python37\\site-packages\\ipykernel_launcher.py:60: DeprecationWarning: KerasClassifier is deprecated, use Sci-Keras (https://github.com/adriangb/scikeras) instead. See https://www.adriangb.com/scikeras/stable/migration.html for help migrating.\n"
     ]
    },
    {
     "name": "stdout",
     "output_type": "stream",
     "text": [
      "195/195 [==============================] - 0s 1ms/step\n",
      "195/195 [==============================] - 0s 1ms/step\n",
      "195/195 [==============================] - 0s 1ms/step\n"
     ]
    },
    {
     "name": "stderr",
     "output_type": "stream",
     "text": [
      "[I 2024-12-01 15:34:34,315] Trial 3 finished with value: 0.8990319103744762 and parameters: {'units_1': 24, 'units_2': 38, 'units_3': 34, 'alpha_1': 0.050269820578890505, 'alpha_2': 0.023380430184829444, 'alpha_3': 0.04455820784336144, 'dropout_1': 0.4457017685260193, 'dropout_2': 0.3097324343523957, 'dropout_3': 0.4140945000910622, 'l2_kern_1': 0.0001762947387085059, 'l2_kern_2': 0.0010488099030136271, 'l2_kern_3': 0.0002513607083104229, 'l2_bias_1': 0.004000154030783013, 'l2_bias_2': 1.8307806885657075e-05, 'l2_bias_3': 4.8539691896262124e-05, 'lr': 0.0005095291328467113, 'batch_size': 512}. Best is trial 3 with value: 0.8990319103744762.\n",
      "C:\\Users\\navee\\AppData\\Roaming\\Python\\Python37\\site-packages\\ipykernel_launcher.py:60: DeprecationWarning: KerasClassifier is deprecated, use Sci-Keras (https://github.com/adriangb/scikeras) instead. See https://www.adriangb.com/scikeras/stable/migration.html for help migrating.\n"
     ]
    },
    {
     "name": "stdout",
     "output_type": "stream",
     "text": [
      "195/195 [==============================] - 0s 1ms/step\n",
      "195/195 [==============================] - 0s 1ms/step\n",
      "195/195 [==============================] - 0s 2ms/step\n"
     ]
    },
    {
     "name": "stderr",
     "output_type": "stream",
     "text": [
      "[I 2024-12-01 15:39:01,371] Trial 4 finished with value: 0.8988455822249994 and parameters: {'units_1': 23, 'units_2': 20, 'units_3': 37, 'alpha_1': 0.043382032521026286, 'alpha_2': 0.08400268833680179, 'alpha_3': 0.04020144266330552, 'dropout_1': 0.40010055382380777, 'dropout_2': 0.4273972638296411, 'dropout_3': 0.3392447592104134, 'l2_kern_1': 1.0626135317148848e-05, 'l2_kern_2': 0.0007648976836841341, 'l2_kern_3': 3.029617398672154e-05, 'l2_bias_1': 0.002509774161729186, 'l2_bias_2': 0.0005609229584624486, 'l2_bias_3': 1.0444155744647827e-05, 'lr': 8.275864111104241e-05, 'batch_size': 16}. Best is trial 3 with value: 0.8990319103744762.\n",
      "C:\\Users\\navee\\AppData\\Roaming\\Python\\Python37\\site-packages\\ipykernel_launcher.py:60: DeprecationWarning: KerasClassifier is deprecated, use Sci-Keras (https://github.com/adriangb/scikeras) instead. See https://www.adriangb.com/scikeras/stable/migration.html for help migrating.\n"
     ]
    },
    {
     "name": "stdout",
     "output_type": "stream",
     "text": [
      "195/195 [==============================] - 0s 1ms/step\n",
      "195/195 [==============================] - 0s 1ms/step\n",
      "195/195 [==============================] - 0s 1ms/step\n"
     ]
    },
    {
     "name": "stderr",
     "output_type": "stream",
     "text": [
      "[I 2024-12-01 15:39:50,688] Trial 5 finished with value: 0.8974225383298539 and parameters: {'units_1': 34, 'units_2': 12, 'units_3': 20, 'alpha_1': 0.04469244293849916, 'alpha_2': 0.036355575182492314, 'alpha_3': 0.010757236937475004, 'dropout_1': 0.41988604988288436, 'dropout_2': 0.35646477408494653, 'dropout_3': 0.4782285445806436, 'l2_kern_1': 9.490955204481279e-05, 'l2_kern_2': 0.0010431436212534374, 'l2_kern_3': 0.0001668676154271388, 'l2_bias_1': 4.790042648432502e-05, 'l2_bias_2': 0.0007864491437429115, 'l2_bias_3': 1.4598682226210349e-05, 'lr': 0.00017173443286034766, 'batch_size': 512}. Best is trial 3 with value: 0.8990319103744762.\n",
      "C:\\Users\\navee\\AppData\\Roaming\\Python\\Python37\\site-packages\\ipykernel_launcher.py:60: DeprecationWarning: KerasClassifier is deprecated, use Sci-Keras (https://github.com/adriangb/scikeras) instead. See https://www.adriangb.com/scikeras/stable/migration.html for help migrating.\n"
     ]
    },
    {
     "name": "stdout",
     "output_type": "stream",
     "text": [
      "195/195 [==============================] - 0s 1ms/step\n",
      "195/195 [==============================] - 0s 1ms/step\n",
      "195/195 [==============================] - 0s 1ms/step\n"
     ]
    },
    {
     "name": "stderr",
     "output_type": "stream",
     "text": [
      "[I 2024-12-01 15:40:58,625] Trial 6 finished with value: 0.8972723398626653 and parameters: {'units_1': 19, 'units_2': 10, 'units_3': 22, 'alpha_1': 0.06080711195175611, 'alpha_2': 0.04994785065700509, 'alpha_3': 0.030331963057935243, 'dropout_1': 0.3041026511676549, 'dropout_2': 0.48016546321110576, 'dropout_3': 0.2004675238506217, 'l2_kern_1': 3.1482618688753875e-05, 'l2_kern_2': 4.2485743693665025e-05, 'l2_kern_3': 3.149089458075181e-05, 'l2_bias_1': 0.0007555463176553819, 'l2_bias_2': 0.00034869676173145266, 'l2_bias_3': 0.0011656378481432808, 'lr': 0.0018697388495506815, 'batch_size': 32}. Best is trial 3 with value: 0.8990319103744762.\n",
      "C:\\Users\\navee\\AppData\\Roaming\\Python\\Python37\\site-packages\\ipykernel_launcher.py:60: DeprecationWarning: KerasClassifier is deprecated, use Sci-Keras (https://github.com/adriangb/scikeras) instead. See https://www.adriangb.com/scikeras/stable/migration.html for help migrating.\n"
     ]
    },
    {
     "name": "stdout",
     "output_type": "stream",
     "text": [
      "195/195 [==============================] - 0s 1ms/step\n",
      "195/195 [==============================] - 0s 2ms/step\n",
      "195/195 [==============================] - 0s 1ms/step\n"
     ]
    },
    {
     "name": "stderr",
     "output_type": "stream",
     "text": [
      "[I 2024-12-01 15:43:10,680] Trial 7 finished with value: 0.8977926601016403 and parameters: {'units_1': 19, 'units_2': 37, 'units_3': 19, 'alpha_1': 0.024627036984513774, 'alpha_2': 0.07741163730970975, 'alpha_3': 0.08510008371245109, 'dropout_1': 0.2826050703209977, 'dropout_2': 0.4666380853923664, 'dropout_3': 0.2659799747992875, 'l2_kern_1': 0.00017514259852482818, 'l2_kern_2': 0.0002832812032085021, 'l2_kern_3': 0.000413107297437107, 'l2_bias_1': 0.00032679508738719, 'l2_bias_2': 7.769712361453347e-05, 'l2_bias_3': 0.004797281450778513, 'lr': 0.0012433309106730113, 'batch_size': 16}. Best is trial 3 with value: 0.8990319103744762.\n",
      "C:\\Users\\navee\\AppData\\Roaming\\Python\\Python37\\site-packages\\ipykernel_launcher.py:60: DeprecationWarning: KerasClassifier is deprecated, use Sci-Keras (https://github.com/adriangb/scikeras) instead. See https://www.adriangb.com/scikeras/stable/migration.html for help migrating.\n"
     ]
    },
    {
     "name": "stdout",
     "output_type": "stream",
     "text": [
      "195/195 [==============================] - 0s 1ms/step\n",
      "195/195 [==============================] - 0s 1ms/step\n",
      "195/195 [==============================] - 0s 2ms/step\n"
     ]
    },
    {
     "name": "stderr",
     "output_type": "stream",
     "text": [
      "[I 2024-12-01 15:44:13,296] Trial 8 finished with value: 0.8925281381317922 and parameters: {'units_1': 35, 'units_2': 12, 'units_3': 7, 'alpha_1': 0.024589702525163515, 'alpha_2': 0.05810767891950795, 'alpha_3': 0.05633433320594007, 'dropout_1': 0.4973657659632869, 'dropout_2': 0.28422764236073517, 'dropout_3': 0.3588814892845874, 'l2_kern_1': 0.0019919098049209763, 'l2_kern_2': 0.0011533460183812344, 'l2_kern_3': 0.005732586454387019, 'l2_bias_1': 0.0029274967457332884, 'l2_bias_2': 0.006029555184657117, 'l2_bias_3': 0.00024193740413089337, 'lr': 7.5897697907576e-05, 'batch_size': 1024}. Best is trial 3 with value: 0.8990319103744762.\n",
      "C:\\Users\\navee\\AppData\\Roaming\\Python\\Python37\\site-packages\\ipykernel_launcher.py:60: DeprecationWarning: KerasClassifier is deprecated, use Sci-Keras (https://github.com/adriangb/scikeras) instead. See https://www.adriangb.com/scikeras/stable/migration.html for help migrating.\n"
     ]
    },
    {
     "name": "stdout",
     "output_type": "stream",
     "text": [
      "195/195 [==============================] - 0s 1ms/step\n",
      "195/195 [==============================] - 0s 1ms/step\n",
      "195/195 [==============================] - 0s 2ms/step\n"
     ]
    },
    {
     "name": "stderr",
     "output_type": "stream",
     "text": [
      "[I 2024-12-01 15:44:30,768] Trial 9 finished with value: 0.8996270028784122 and parameters: {'units_1': 21, 'units_2': 8, 'units_3': 2, 'alpha_1': 0.03263648113236906, 'alpha_2': 0.0630450102940889, 'alpha_3': 0.019127218785505204, 'dropout_1': 0.21897778267573278, 'dropout_2': 0.3224446852123366, 'dropout_3': 0.4478933455539782, 'l2_kern_1': 0.0001407750500934896, 'l2_kern_2': 0.0002551825705565549, 'l2_kern_3': 1.7690626429505184e-05, 'l2_bias_1': 5.730559669715484e-05, 'l2_bias_2': 0.0072230569503712524, 'l2_bias_3': 0.00040981958343761497, 'lr': 0.006536493097806165, 'batch_size': 1024}. Best is trial 9 with value: 0.8996270028784122.\n"
     ]
    },
    {
     "name": "stdout",
     "output_type": "stream",
     "text": [
      "Number of finished trials: 10\n",
      "Best trial:\n",
      "  Value: 0.8996270028784122\n",
      "    units_1: 21\n",
      "    units_2: 8\n",
      "    units_3: 2\n",
      "    alpha_1: 0.03263648113236906\n",
      "    alpha_2: 0.0630450102940889\n",
      "    alpha_3: 0.019127218785505204\n",
      "    dropout_1: 0.21897778267573278\n",
      "    dropout_2: 0.3224446852123366\n",
      "    dropout_3: 0.4478933455539782\n",
      "    l2_kern_1: 0.0001407750500934896\n",
      "    l2_kern_2: 0.0002551825705565549\n",
      "    l2_kern_3: 1.7690626429505184e-05\n",
      "    l2_bias_1: 5.730559669715484e-05\n",
      "    l2_bias_2: 0.0072230569503712524\n",
      "    l2_bias_3: 0.00040981958343761497\n",
      "    lr: 0.006536493097806165\n",
      "    batch_size: 1024\n"
     ]
    }
   ],
   "source": [
    "tun = tuning_methods(X_train, X_val, y_train,  y_val, X_test, y_test)\n",
    "trials = 10\n",
    "\n",
    "# Tree-structured Parzen Estimator\n",
    "params_TPE = tun.Tuning(n_trials=trials, sampler = optuna.samplers.TPESampler())"
   ]
  },
  {
   "cell_type": "code",
   "execution_count": 13,
   "id": "a9f60035",
   "metadata": {},
   "outputs": [
    {
     "name": "stderr",
     "output_type": "stream",
     "text": [
      "C:\\Users\\navee\\AppData\\Roaming\\Python\\Python37\\site-packages\\ipykernel_launcher.py:169: DeprecationWarning: KerasClassifier is deprecated, use Sci-Keras (https://github.com/adriangb/scikeras) instead. See https://www.adriangb.com/scikeras/stable/migration.html for help migrating.\n"
     ]
    },
    {
     "name": "stdout",
     "output_type": "stream",
     "text": [
      "117/117 [==============================] - 0s 1ms/step\n",
      "117/117 [==============================] - 0s 1ms/step\n",
      "117/117 [==============================] - 0s 1ms/step\n",
      "117/117 [==============================] - 0s 1ms/step\n",
      "117/117 [==============================] - 0s 1ms/step\n",
      "37/37 [==============================] - 0s 1ms/step\n",
      "37/37 [==============================] - 0s 1ms/step\n",
      "37/37 [==============================] - 0s 1ms/step\n",
      "37/37 [==============================] - 0s 1ms/step\n",
      "37/37 [==============================] - 0s 2ms/step\n",
      "Train mean AUC score is 0.899281190867778 while test mean AUC score is 0.893223674244471.\n",
      "183/183 [==============================] - 0s 984us/step\n",
      "              precision    recall  f1-score   support\n",
      "\n",
      "          No       0.83      1.00      0.90      4814\n",
      "         Yes       0.46      0.01      0.02      1021\n",
      "\n",
      "    accuracy                           0.82      5835\n",
      "   macro avg       0.65      0.50      0.46      5835\n",
      "weighted avg       0.76      0.82      0.75      5835\n",
      "\n"
     ]
    }
   ],
   "source": [
    "tpe_scores = tun.Best_MLP_model(params_TPE)"
   ]
  },
  {
   "cell_type": "code",
   "execution_count": 14,
   "id": "cfc8b8e3",
   "metadata": {},
   "outputs": [
    {
     "name": "stderr",
     "output_type": "stream",
     "text": [
      "[I 2024-12-01 15:45:23,458] A new study created in memory with name: no-name-b60921ad-596e-4aec-828a-752e8da6a5ff\n",
      "C:\\Users\\navee\\AppData\\Roaming\\Python\\Python37\\site-packages\\ipykernel_launcher.py:60: DeprecationWarning: KerasClassifier is deprecated, use Sci-Keras (https://github.com/adriangb/scikeras) instead. See https://www.adriangb.com/scikeras/stable/migration.html for help migrating.\n"
     ]
    },
    {
     "name": "stdout",
     "output_type": "stream",
     "text": [
      "195/195 [==============================] - 0s 1ms/step\n",
      "195/195 [==============================] - 0s 986us/step\n",
      "195/195 [==============================] - 0s 1ms/step\n"
     ]
    },
    {
     "name": "stderr",
     "output_type": "stream",
     "text": [
      "[I 2024-12-01 15:45:56,124] Trial 0 finished with value: 0.89857606429797 and parameters: {'units_1': 36, 'units_2': 33, 'units_3': 26, 'alpha_1': 0.010164818202157052, 'alpha_2': 0.04623286173233249, 'alpha_3': 0.08858909847133103, 'dropout_1': 0.48932583680930464, 'dropout_2': 0.36774045854624104, 'dropout_3': 0.4296449882091301, 'l2_kern_1': 0.0016134106763473026, 'l2_kern_2': 1.1531425411212442e-05, 'l2_kern_3': 0.007268073994994258, 'l2_bias_1': 0.0036663549560223586, 'l2_bias_2': 0.00023299132666956124, 'l2_bias_3': 0.00024749647140453427, 'lr': 0.0006727076108484775, 'batch_size': 1024}. Best is trial 0 with value: 0.89857606429797.\n",
      "C:\\Users\\navee\\AppData\\Roaming\\Python\\Python37\\site-packages\\ipykernel_launcher.py:60: DeprecationWarning: KerasClassifier is deprecated, use Sci-Keras (https://github.com/adriangb/scikeras) instead. See https://www.adriangb.com/scikeras/stable/migration.html for help migrating.\n"
     ]
    },
    {
     "name": "stdout",
     "output_type": "stream",
     "text": [
      "195/195 [==============================] - 0s 1ms/step\n",
      "195/195 [==============================] - 0s 1ms/step\n",
      "195/195 [==============================] - 0s 1ms/step\n"
     ]
    },
    {
     "name": "stderr",
     "output_type": "stream",
     "text": [
      "[I 2024-12-01 15:46:31,810] Trial 1 finished with value: 0.8987237662888621 and parameters: {'units_1': 30, 'units_2': 27, 'units_3': 37, 'alpha_1': 0.04609227276161123, 'alpha_2': 0.014734844534838122, 'alpha_3': 0.0568148171622379, 'dropout_1': 0.26900843980151734, 'dropout_2': 0.3099765857504585, 'dropout_3': 0.3216849032636249, 'l2_kern_1': 0.0005439579098872581, 'l2_kern_2': 0.003014714962381012, 'l2_kern_3': 8.256341452696815e-05, 'l2_bias_1': 3.3058270396711655e-05, 'l2_bias_2': 1.1269769682458114e-05, 'l2_bias_3': 0.0003370012358255037, 'lr': 0.0005816146787295745, 'batch_size': 256}. Best is trial 1 with value: 0.8987237662888621.\n",
      "C:\\Users\\navee\\AppData\\Roaming\\Python\\Python37\\site-packages\\ipykernel_launcher.py:60: DeprecationWarning: KerasClassifier is deprecated, use Sci-Keras (https://github.com/adriangb/scikeras) instead. See https://www.adriangb.com/scikeras/stable/migration.html for help migrating.\n"
     ]
    },
    {
     "name": "stdout",
     "output_type": "stream",
     "text": [
      "195/195 [==============================] - 0s 1ms/step\n",
      "195/195 [==============================] - 0s 1ms/step\n",
      "195/195 [==============================] - 0s 1ms/step\n"
     ]
    },
    {
     "name": "stderr",
     "output_type": "stream",
     "text": [
      "[I 2024-12-01 15:47:05,369] Trial 2 finished with value: 0.8983701163589034 and parameters: {'units_1': 23, 'units_2': 34, 'units_3': 6, 'alpha_1': 0.03332403795949237, 'alpha_2': 0.016264666514723133, 'alpha_3': 0.07697984847144712, 'dropout_1': 0.38340054385812056, 'dropout_2': 0.25098268045366395, 'dropout_3': 0.4741829244354007, 'l2_kern_1': 6.206265816204326e-05, 'l2_kern_2': 2.619983163452911e-05, 'l2_kern_3': 7.627243969288666e-05, 'l2_bias_1': 0.007730791914875702, 'l2_bias_2': 2.034648454738544e-05, 'l2_bias_3': 3.150757875233252e-05, 'lr': 0.0006284363816182263, 'batch_size': 512}. Best is trial 1 with value: 0.8987237662888621.\n",
      "C:\\Users\\navee\\AppData\\Roaming\\Python\\Python37\\site-packages\\ipykernel_launcher.py:60: DeprecationWarning: KerasClassifier is deprecated, use Sci-Keras (https://github.com/adriangb/scikeras) instead. See https://www.adriangb.com/scikeras/stable/migration.html for help migrating.\n"
     ]
    },
    {
     "name": "stdout",
     "output_type": "stream",
     "text": [
      "195/195 [==============================] - 0s 1ms/step\n",
      "195/195 [==============================] - 0s 1ms/step\n",
      "195/195 [==============================] - 0s 1ms/step\n"
     ]
    },
    {
     "name": "stderr",
     "output_type": "stream",
     "text": [
      "[I 2024-12-01 15:47:53,699] Trial 3 finished with value: 0.8983994588433584 and parameters: {'units_1': 32, 'units_2': 31, 'units_3': 22, 'alpha_1': 0.05924181692893827, 'alpha_2': 0.020037442182099265, 'alpha_3': 0.07889657800261238, 'dropout_1': 0.39178398310940077, 'dropout_2': 0.49821915820952456, 'dropout_3': 0.48341658838932433, 'l2_kern_1': 1.0820696632628985e-05, 'l2_kern_2': 0.0013706585022790374, 'l2_kern_3': 0.0032690522210286365, 'l2_bias_1': 0.008121511833783665, 'l2_bias_2': 1.1046369873345414e-05, 'l2_bias_3': 2.654192641300852e-05, 'lr': 0.0004379904636000476, 'batch_size': 1024}. Best is trial 1 with value: 0.8987237662888621.\n",
      "C:\\Users\\navee\\AppData\\Roaming\\Python\\Python37\\site-packages\\ipykernel_launcher.py:60: DeprecationWarning: KerasClassifier is deprecated, use Sci-Keras (https://github.com/adriangb/scikeras) instead. See https://www.adriangb.com/scikeras/stable/migration.html for help migrating.\n"
     ]
    },
    {
     "name": "stdout",
     "output_type": "stream",
     "text": [
      "195/195 [==============================] - 0s 1ms/step\n",
      "195/195 [==============================] - 0s 966us/step\n",
      "195/195 [==============================] - 0s 1000us/step\n"
     ]
    },
    {
     "name": "stderr",
     "output_type": "stream",
     "text": [
      "[I 2024-12-01 15:48:18,005] Trial 4 finished with value: 0.8978941540650124 and parameters: {'units_1': 34, 'units_2': 14, 'units_3': 3, 'alpha_1': 0.06291851825686542, 'alpha_2': 0.07819047040017585, 'alpha_3': 0.07667738828765926, 'dropout_1': 0.4907508812807197, 'dropout_2': 0.2511580458679871, 'dropout_3': 0.2630629699115979, 'l2_kern_1': 0.00023549763220572978, 'l2_kern_2': 9.075049045857331e-05, 'l2_kern_3': 0.0003993161827127017, 'l2_bias_1': 0.0052164610706788425, 'l2_bias_2': 3.50432553246768e-05, 'l2_bias_3': 0.004836020788250471, 'lr': 0.0009390325155726115, 'batch_size': 1024}. Best is trial 1 with value: 0.8987237662888621.\n",
      "C:\\Users\\navee\\AppData\\Roaming\\Python\\Python37\\site-packages\\ipykernel_launcher.py:60: DeprecationWarning: KerasClassifier is deprecated, use Sci-Keras (https://github.com/adriangb/scikeras) instead. See https://www.adriangb.com/scikeras/stable/migration.html for help migrating.\n"
     ]
    },
    {
     "name": "stdout",
     "output_type": "stream",
     "text": [
      "195/195 [==============================] - 0s 1ms/step\n",
      "195/195 [==============================] - 0s 1ms/step\n",
      "195/195 [==============================] - 0s 1ms/step\n"
     ]
    },
    {
     "name": "stderr",
     "output_type": "stream",
     "text": [
      "[I 2024-12-01 15:49:42,432] Trial 5 finished with value: 0.8983580746110933 and parameters: {'units_1': 30, 'units_2': 40, 'units_3': 36, 'alpha_1': 0.06634420177259036, 'alpha_2': 0.07622804812486858, 'alpha_3': 0.09605494560653541, 'dropout_1': 0.47910794101776033, 'dropout_2': 0.2879021604360501, 'dropout_3': 0.38321557874394935, 'l2_kern_1': 0.0008458752386435578, 'l2_kern_2': 0.0001989807075309908, 'l2_kern_3': 4.9752510498828235e-05, 'l2_bias_1': 0.0090550203341818, 'l2_bias_2': 1.8535295234911308e-05, 'l2_bias_3': 8.849535209905507e-05, 'lr': 9.055376510056783e-05, 'batch_size': 1024}. Best is trial 1 with value: 0.8987237662888621.\n",
      "C:\\Users\\navee\\AppData\\Roaming\\Python\\Python37\\site-packages\\ipykernel_launcher.py:60: DeprecationWarning: KerasClassifier is deprecated, use Sci-Keras (https://github.com/adriangb/scikeras) instead. See https://www.adriangb.com/scikeras/stable/migration.html for help migrating.\n"
     ]
    },
    {
     "name": "stdout",
     "output_type": "stream",
     "text": [
      "195/195 [==============================] - 0s 1ms/step\n",
      "195/195 [==============================] - 0s 966us/step\n",
      "195/195 [==============================] - 0s 1ms/step\n"
     ]
    },
    {
     "name": "stderr",
     "output_type": "stream",
     "text": [
      "[I 2024-12-01 15:50:32,087] Trial 6 finished with value: 0.8990403277373776 and parameters: {'units_1': 27, 'units_2': 34, 'units_3': 15, 'alpha_1': 0.034718122308698314, 'alpha_2': 0.06977437018865705, 'alpha_3': 0.04802064246146196, 'dropout_1': 0.4752612608620585, 'dropout_2': 0.48384801096051877, 'dropout_3': 0.406912932068463, 'l2_kern_1': 0.00014618971645773417, 'l2_kern_2': 3.438038065450949e-05, 'l2_kern_3': 0.005077143773130355, 'l2_bias_1': 0.0008726063645589794, 'l2_bias_2': 0.00011533891035197285, 'l2_bias_3': 3.3857831615553653e-05, 'lr': 0.0009420874595835336, 'batch_size': 128}. Best is trial 6 with value: 0.8990403277373776.\n",
      "C:\\Users\\navee\\AppData\\Roaming\\Python\\Python37\\site-packages\\ipykernel_launcher.py:60: DeprecationWarning: KerasClassifier is deprecated, use Sci-Keras (https://github.com/adriangb/scikeras) instead. See https://www.adriangb.com/scikeras/stable/migration.html for help migrating.\n"
     ]
    },
    {
     "name": "stdout",
     "output_type": "stream",
     "text": [
      "195/195 [==============================] - 0s 1ms/step\n",
      "195/195 [==============================] - 0s 1ms/step\n",
      "195/195 [==============================] - 0s 1ms/step\n"
     ]
    },
    {
     "name": "stderr",
     "output_type": "stream",
     "text": [
      "[I 2024-12-01 15:51:01,037] Trial 7 finished with value: 0.8977199445421461 and parameters: {'units_1': 27, 'units_2': 12, 'units_3': 33, 'alpha_1': 0.013275803764416807, 'alpha_2': 0.029403504552170175, 'alpha_3': 0.04513145261760891, 'dropout_1': 0.3443997472192161, 'dropout_2': 0.34504600964214804, 'dropout_3': 0.3117480694908539, 'l2_kern_1': 1.7321179308560647e-05, 'l2_kern_2': 0.0003646281112365824, 'l2_kern_3': 0.0004396897308027009, 'l2_bias_1': 2.1938095842886144e-05, 'l2_bias_2': 0.0006667115440288758, 'l2_bias_3': 0.008680686176251172, 'lr': 0.000570154907695289, 'batch_size': 1024}. Best is trial 6 with value: 0.8990403277373776.\n",
      "C:\\Users\\navee\\AppData\\Roaming\\Python\\Python37\\site-packages\\ipykernel_launcher.py:60: DeprecationWarning: KerasClassifier is deprecated, use Sci-Keras (https://github.com/adriangb/scikeras) instead. See https://www.adriangb.com/scikeras/stable/migration.html for help migrating.\n"
     ]
    },
    {
     "name": "stdout",
     "output_type": "stream",
     "text": [
      "195/195 [==============================] - 0s 1ms/step\n",
      "195/195 [==============================] - 0s 1ms/step\n",
      "195/195 [==============================] - 0s 1ms/step\n"
     ]
    },
    {
     "name": "stderr",
     "output_type": "stream",
     "text": [
      "[I 2024-12-01 15:51:45,209] Trial 8 finished with value: 0.8968216507445197 and parameters: {'units_1': 16, 'units_2': 10, 'units_3': 11, 'alpha_1': 0.066607714520725, 'alpha_2': 0.023243381163620635, 'alpha_3': 0.055793615053038016, 'dropout_1': 0.3560490956647695, 'dropout_2': 0.40927562602546375, 'dropout_3': 0.44069011665874525, 'l2_kern_1': 1.0409228748317647e-05, 'l2_kern_2': 0.0003987672058340339, 'l2_kern_3': 0.0005766555348817266, 'l2_bias_1': 0.007778327108116131, 'l2_bias_2': 0.0002756804588447907, 'l2_bias_3': 0.007488842123148338, 'lr': 0.0002014395856688285, 'batch_size': 1024}. Best is trial 6 with value: 0.8990403277373776.\n",
      "C:\\Users\\navee\\AppData\\Roaming\\Python\\Python37\\site-packages\\ipykernel_launcher.py:60: DeprecationWarning: KerasClassifier is deprecated, use Sci-Keras (https://github.com/adriangb/scikeras) instead. See https://www.adriangb.com/scikeras/stable/migration.html for help migrating.\n"
     ]
    },
    {
     "name": "stdout",
     "output_type": "stream",
     "text": [
      "195/195 [==============================] - 0s 1ms/step\n",
      "195/195 [==============================] - 0s 1ms/step\n",
      "195/195 [==============================] - 0s 1ms/step\n"
     ]
    },
    {
     "name": "stderr",
     "output_type": "stream",
     "text": [
      "[I 2024-12-01 15:56:00,680] Trial 9 finished with value: 0.89872582835625 and parameters: {'units_1': 22, 'units_2': 36, 'units_3': 12, 'alpha_1': 0.06611105681540107, 'alpha_2': 0.07331687690921421, 'alpha_3': 0.08199469415260333, 'dropout_1': 0.41116878196394535, 'dropout_2': 0.4397676380641242, 'dropout_3': 0.4607655952911267, 'l2_kern_1': 1.5152040426844547e-05, 'l2_kern_2': 0.008199805906448879, 'l2_kern_3': 3.331153520331828e-05, 'l2_bias_1': 0.00027332329452065213, 'l2_bias_2': 0.0061773978161703885, 'l2_bias_3': 0.002661582920378538, 'lr': 0.0001690652863742106, 'batch_size': 16}. Best is trial 6 with value: 0.8990403277373776.\n"
     ]
    },
    {
     "name": "stdout",
     "output_type": "stream",
     "text": [
      "Number of finished trials: 10\n",
      "Best trial:\n",
      "  Value: 0.8990403277373776\n",
      "    units_1: 27\n",
      "    units_2: 34\n",
      "    units_3: 15\n",
      "    alpha_1: 0.034718122308698314\n",
      "    alpha_2: 0.06977437018865705\n",
      "    alpha_3: 0.04802064246146196\n",
      "    dropout_1: 0.4752612608620585\n",
      "    dropout_2: 0.48384801096051877\n",
      "    dropout_3: 0.406912932068463\n",
      "    l2_kern_1: 0.00014618971645773417\n",
      "    l2_kern_2: 3.438038065450949e-05\n",
      "    l2_kern_3: 0.005077143773130355\n",
      "    l2_bias_1: 0.0008726063645589794\n",
      "    l2_bias_2: 0.00011533891035197285\n",
      "    l2_bias_3: 3.3857831615553653e-05\n",
      "    lr: 0.0009420874595835336\n",
      "    batch_size: 128\n"
     ]
    },
    {
     "name": "stderr",
     "output_type": "stream",
     "text": [
      "C:\\Users\\navee\\AppData\\Roaming\\Python\\Python37\\site-packages\\ipykernel_launcher.py:169: DeprecationWarning: KerasClassifier is deprecated, use Sci-Keras (https://github.com/adriangb/scikeras) instead. See https://www.adriangb.com/scikeras/stable/migration.html for help migrating.\n"
     ]
    },
    {
     "name": "stdout",
     "output_type": "stream",
     "text": [
      "117/117 [==============================] - 0s 1ms/step\n",
      "117/117 [==============================] - 0s 1ms/step\n",
      "117/117 [==============================] - 0s 1ms/step\n",
      "117/117 [==============================] - 0s 1ms/step\n",
      "117/117 [==============================] - 0s 1ms/step\n",
      "37/37 [==============================] - 0s 1ms/step\n",
      "37/37 [==============================] - 0s 2ms/step\n",
      "37/37 [==============================] - 0s 1ms/step\n",
      "37/37 [==============================] - 0s 2ms/step\n",
      "37/37 [==============================] - 0s 2ms/step\n",
      "Train mean AUC score is 0.8975351304148829 while test mean AUC score is 0.8920644986753409.\n",
      "183/183 [==============================] - 0s 1ms/step\n",
      "              precision    recall  f1-score   support\n",
      "\n",
      "          No       0.89      0.89      0.89      4814\n",
      "         Yes       0.50      0.49      0.50      1021\n",
      "\n",
      "    accuracy                           0.82      5835\n",
      "   macro avg       0.69      0.69      0.69      5835\n",
      "weighted avg       0.82      0.82      0.82      5835\n",
      "\n"
     ]
    }
   ],
   "source": [
    "# Random Sampler\n",
    "trials = 10\n",
    "params_rs = tun.Tuning(n_trials=trials, sampler = optuna.samplers.RandomSampler())\n",
    "rs_scores = tun.Best_MLP_model(params_rs)\n",
    "rs_scores = rs_scores.rename(columns={'Tree-structured Parzen Estimator': 'Random Sampler'})"
   ]
  },
  {
   "cell_type": "code",
   "execution_count": 15,
   "id": "6abb8f79",
   "metadata": {},
   "outputs": [
    {
     "name": "stderr",
     "output_type": "stream",
     "text": [
      "[I 2024-12-01 15:58:51,413] A new study created in memory with name: no-name-e3da3a87-0eab-4086-a011-2d35f4df07f4\n",
      "C:\\Users\\navee\\AppData\\Roaming\\Python\\Python37\\site-packages\\ipykernel_launcher.py:60: DeprecationWarning: KerasClassifier is deprecated, use Sci-Keras (https://github.com/adriangb/scikeras) instead. See https://www.adriangb.com/scikeras/stable/migration.html for help migrating.\n"
     ]
    },
    {
     "name": "stdout",
     "output_type": "stream",
     "text": [
      "195/195 [==============================] - 0s 1ms/step\n",
      "195/195 [==============================] - 0s 1ms/step\n",
      "195/195 [==============================] - 1s 1ms/step\n"
     ]
    },
    {
     "name": "stderr",
     "output_type": "stream",
     "text": [
      "[I 2024-12-01 16:00:14,270] Trial 0 finished with value: 0.8983063402042326 and parameters: {'units_1': 12, 'units_2': 36, 'units_3': 36, 'alpha_1': 0.07195114156633683, 'alpha_2': 0.03499321902355449, 'alpha_3': 0.011689464291570095, 'dropout_1': 0.25201242154092235, 'dropout_2': 0.4290905450165321, 'dropout_3': 0.35824766555990073, 'l2_kern_1': 0.0002997561726895135, 'l2_kern_2': 0.002230259501377773, 'l2_kern_3': 0.0004312898465415555, 'l2_bias_1': 0.0003748062497994044, 'l2_bias_2': 0.000618144638434211, 'l2_bias_3': 0.006229838364059696, 'lr': 0.0009406244465523609, 'batch_size': 64}. Best is trial 0 with value: 0.8983063402042326.\n",
      "C:\\Users\\navee\\AppData\\Roaming\\Python\\Python37\\site-packages\\ipykernel_launcher.py:60: DeprecationWarning: KerasClassifier is deprecated, use Sci-Keras (https://github.com/adriangb/scikeras) instead. See https://www.adriangb.com/scikeras/stable/migration.html for help migrating.\n"
     ]
    },
    {
     "name": "stdout",
     "output_type": "stream",
     "text": [
      "195/195 [==============================] - 0s 1ms/step\n",
      "195/195 [==============================] - 0s 1ms/step\n",
      "195/195 [==============================] - 0s 1ms/step\n"
     ]
    },
    {
     "name": "stderr",
     "output_type": "stream",
     "text": [
      "[I 2024-12-01 16:01:08,774] Trial 1 finished with value: 0.8982944726880402 and parameters: {'units_1': 9, 'units_2': 17, 'units_3': 11, 'alpha_1': 0.08899481587572336, 'alpha_2': 0.061981603405611055, 'alpha_3': 0.06712850610560706, 'dropout_1': 0.33578268291202407, 'dropout_2': 0.2514761010718352, 'dropout_3': 0.2250234026637089, 'l2_kern_1': 8.06256316596477e-05, 'l2_kern_2': 1.0841391818327202e-05, 'l2_kern_3': 0.004223834251076415, 'l2_bias_1': 6.116617738341529e-05, 'l2_bias_2': 0.005914776031414456, 'l2_bias_3': 0.0006831903560851215, 'lr': 0.00026485703901087105, 'batch_size': 1024}. Best is trial 0 with value: 0.8983063402042326.\n",
      "C:\\Users\\navee\\AppData\\Roaming\\Python\\Python37\\site-packages\\ipykernel_launcher.py:60: DeprecationWarning: KerasClassifier is deprecated, use Sci-Keras (https://github.com/adriangb/scikeras) instead. See https://www.adriangb.com/scikeras/stable/migration.html for help migrating.\n"
     ]
    },
    {
     "name": "stdout",
     "output_type": "stream",
     "text": [
      "195/195 [==============================] - 0s 1ms/step\n",
      "195/195 [==============================] - 0s 1ms/step\n",
      "195/195 [==============================] - 0s 2ms/step\n"
     ]
    },
    {
     "name": "stderr",
     "output_type": "stream",
     "text": [
      "[I 2024-12-01 16:03:00,477] Trial 2 finished with value: 0.8983749399978173 and parameters: {'units_1': 37, 'units_2': 8, 'units_3': 5, 'alpha_1': 0.03566924199336954, 'alpha_2': 0.08699830626564885, 'alpha_3': 0.07028448673811422, 'dropout_1': 0.28526141770252716, 'dropout_2': 0.4384925239432073, 'dropout_3': 0.4269793518571767, 'l2_kern_1': 1.3389036157751257e-05, 'l2_kern_2': 0.001719109881883827, 'l2_kern_3': 0.00013786761803445522, 'l2_bias_1': 0.0011346327045817694, 'l2_bias_2': 6.758197303616815e-05, 'l2_bias_3': 3.858545658073558e-05, 'lr': 9.326408726331255e-05, 'batch_size': 64}. Best is trial 2 with value: 0.8983749399978173.\n",
      "C:\\Users\\navee\\AppData\\Roaming\\Python\\Python37\\site-packages\\ipykernel_launcher.py:60: DeprecationWarning: KerasClassifier is deprecated, use Sci-Keras (https://github.com/adriangb/scikeras) instead. See https://www.adriangb.com/scikeras/stable/migration.html for help migrating.\n"
     ]
    },
    {
     "name": "stdout",
     "output_type": "stream",
     "text": [
      "195/195 [==============================] - 1s 2ms/step\n",
      "195/195 [==============================] - 0s 1ms/step\n",
      "195/195 [==============================] - 0s 1ms/step\n"
     ]
    },
    {
     "name": "stderr",
     "output_type": "stream",
     "text": [
      "[I 2024-12-01 16:08:21,057] Trial 3 finished with value: 0.8979126670714548 and parameters: {'units_1': 10, 'units_2': 14, 'units_3': 6, 'alpha_1': 0.044458924378517416, 'alpha_2': 0.02641801225435414, 'alpha_3': 0.020325172294085057, 'dropout_1': 0.23946646697051863, 'dropout_2': 0.4601844098309615, 'dropout_3': 0.3555121054191946, 'l2_kern_1': 8.981110844466435e-05, 'l2_kern_2': 0.009528752401706947, 'l2_kern_3': 0.004352536982837498, 'l2_bias_1': 2.7245552095466943e-05, 'l2_bias_2': 4.7057086212051516e-05, 'l2_bias_3': 0.000467479755087106, 'lr': 0.0017624117703714758, 'batch_size': 16}. Best is trial 2 with value: 0.8983749399978173.\n",
      "C:\\Users\\navee\\AppData\\Roaming\\Python\\Python37\\site-packages\\ipykernel_launcher.py:60: DeprecationWarning: KerasClassifier is deprecated, use Sci-Keras (https://github.com/adriangb/scikeras) instead. See https://www.adriangb.com/scikeras/stable/migration.html for help migrating.\n"
     ]
    },
    {
     "name": "stdout",
     "output_type": "stream",
     "text": [
      "195/195 [==============================] - 0s 1ms/step\n",
      "195/195 [==============================] - 1s 4ms/step\n",
      "195/195 [==============================] - 0s 2ms/step\n"
     ]
    },
    {
     "name": "stderr",
     "output_type": "stream",
     "text": [
      "[I 2024-12-01 16:08:56,286] Trial 4 finished with value: 0.8974666618704786 and parameters: {'units_1': 18, 'units_2': 36, 'units_3': 38, 'alpha_1': 0.030626168069380406, 'alpha_2': 0.08644019077702086, 'alpha_3': 0.059832493580409145, 'dropout_1': 0.4324789627119209, 'dropout_2': 0.22574622582827172, 'dropout_3': 0.2116821041903435, 'l2_kern_1': 0.0043823258790231245, 'l2_kern_2': 0.008840649008331865, 'l2_kern_3': 0.008843614794497162, 'l2_bias_1': 0.0022839237577432286, 'l2_bias_2': 3.644379658111937e-05, 'l2_bias_3': 0.006123035598473361, 'lr': 0.00952771203762529, 'batch_size': 256}. Best is trial 2 with value: 0.8983749399978173.\n",
      "C:\\Users\\navee\\AppData\\Roaming\\Python\\Python37\\site-packages\\ipykernel_launcher.py:60: DeprecationWarning: KerasClassifier is deprecated, use Sci-Keras (https://github.com/adriangb/scikeras) instead. See https://www.adriangb.com/scikeras/stable/migration.html for help migrating.\n"
     ]
    },
    {
     "name": "stdout",
     "output_type": "stream",
     "text": [
      "195/195 [==============================] - 0s 2ms/step\n",
      "195/195 [==============================] - 0s 2ms/step\n",
      "195/195 [==============================] - 0s 2ms/step\n"
     ]
    },
    {
     "name": "stderr",
     "output_type": "stream",
     "text": [
      "[I 2024-12-01 16:09:19,612] Trial 5 finished with value: 0.8971936754711832 and parameters: {'units_1': 10, 'units_2': 34, 'units_3': 21, 'alpha_1': 0.0898486605224815, 'alpha_2': 0.044003199292369115, 'alpha_3': 0.07013119421998876, 'dropout_1': 0.4190551505941009, 'dropout_2': 0.41261822980067175, 'dropout_3': 0.4958394479132896, 'l2_kern_1': 0.004581439589399174, 'l2_kern_2': 0.0010739664662592805, 'l2_kern_3': 4.208843519137652e-05, 'l2_bias_1': 0.003138328584746438, 'l2_bias_2': 0.00014388216535475345, 'l2_bias_3': 0.0007605437115902831, 'lr': 0.009961413220841858, 'batch_size': 128}. Best is trial 2 with value: 0.8983749399978173.\n",
      "C:\\Users\\navee\\AppData\\Roaming\\Python\\Python37\\site-packages\\ipykernel_launcher.py:60: DeprecationWarning: KerasClassifier is deprecated, use Sci-Keras (https://github.com/adriangb/scikeras) instead. See https://www.adriangb.com/scikeras/stable/migration.html for help migrating.\n"
     ]
    },
    {
     "name": "stdout",
     "output_type": "stream",
     "text": [
      "195/195 [==============================] - 0s 1ms/step\n",
      "195/195 [==============================] - 0s 2ms/step\n",
      "195/195 [==============================] - 0s 2ms/step\n"
     ]
    },
    {
     "name": "stderr",
     "output_type": "stream",
     "text": [
      "[I 2024-12-01 16:11:21,827] Trial 6 finished with value: 0.8971925957620828 and parameters: {'units_1': 4, 'units_2': 5, 'units_3': 14, 'alpha_1': 0.09720162828590632, 'alpha_2': 0.06249061934818981, 'alpha_3': 0.02831988596286896, 'dropout_1': 0.24898059008606793, 'dropout_2': 0.3833424398374267, 'dropout_3': 0.39408372585980755, 'l2_kern_1': 0.0020207506201317615, 'l2_kern_2': 1.7564496746528636e-05, 'l2_kern_3': 0.0014810790623904038, 'l2_bias_1': 0.00010995742011898496, 'l2_bias_2': 0.00015702133271545634, 'l2_bias_3': 0.0013665810354193595, 'lr': 8.097440944225012e-05, 'batch_size': 128}. Best is trial 2 with value: 0.8983749399978173.\n",
      "C:\\Users\\navee\\AppData\\Roaming\\Python\\Python37\\site-packages\\ipykernel_launcher.py:60: DeprecationWarning: KerasClassifier is deprecated, use Sci-Keras (https://github.com/adriangb/scikeras) instead. See https://www.adriangb.com/scikeras/stable/migration.html for help migrating.\n"
     ]
    },
    {
     "name": "stdout",
     "output_type": "stream",
     "text": [
      "195/195 [==============================] - 0s 2ms/step\n",
      "195/195 [==============================] - 0s 2ms/step\n",
      "195/195 [==============================] - 0s 2ms/step\n"
     ]
    },
    {
     "name": "stderr",
     "output_type": "stream",
     "text": [
      "[I 2024-12-01 16:11:56,383] Trial 7 finished with value: 0.8978376418807618 and parameters: {'units_1': 21, 'units_2': 20, 'units_3': 23, 'alpha_1': 0.03151315557628589, 'alpha_2': 0.06941072063159168, 'alpha_3': 0.03619058967347027, 'dropout_1': 0.20054120224391814, 'dropout_2': 0.4001602345010289, 'dropout_3': 0.33105464942849716, 'l2_kern_1': 0.0009220784695357161, 'l2_kern_2': 5.093806613159087e-05, 'l2_kern_3': 1.0922077650891095e-05, 'l2_bias_1': 0.008744465623692896, 'l2_bias_2': 0.0027374582780090146, 'l2_bias_3': 0.00747460907151383, 'lr': 0.0034345191860520974, 'batch_size': 64}. Best is trial 2 with value: 0.8983749399978173.\n",
      "C:\\Users\\navee\\AppData\\Roaming\\Python\\Python37\\site-packages\\ipykernel_launcher.py:60: DeprecationWarning: KerasClassifier is deprecated, use Sci-Keras (https://github.com/adriangb/scikeras) instead. See https://www.adriangb.com/scikeras/stable/migration.html for help migrating.\n"
     ]
    },
    {
     "name": "stdout",
     "output_type": "stream",
     "text": [
      "195/195 [==============================] - 0s 2ms/step\n",
      "195/195 [==============================] - 0s 2ms/step\n",
      "195/195 [==============================] - 0s 2ms/step\n"
     ]
    },
    {
     "name": "stderr",
     "output_type": "stream",
     "text": [
      "[I 2024-12-01 16:13:48,463] Trial 8 finished with value: 0.8976871645586684 and parameters: {'units_1': 15, 'units_2': 35, 'units_3': 36, 'alpha_1': 0.08676274819117251, 'alpha_2': 0.0702313202070757, 'alpha_3': 0.02351326926574703, 'dropout_1': 0.38027273983312804, 'dropout_2': 0.3016135673980873, 'dropout_3': 0.31072860723939877, 'l2_kern_1': 0.002409886193566709, 'l2_kern_2': 3.589071208355181e-05, 'l2_kern_3': 0.0017728969701522569, 'l2_bias_1': 6.141543216373083e-05, 'l2_bias_2': 0.00120328349733479, 'l2_bias_3': 9.784593103599035e-05, 'lr': 0.0010626334981770481, 'batch_size': 64}. Best is trial 2 with value: 0.8983749399978173.\n",
      "C:\\Users\\navee\\AppData\\Roaming\\Python\\Python37\\site-packages\\ipykernel_launcher.py:60: DeprecationWarning: KerasClassifier is deprecated, use Sci-Keras (https://github.com/adriangb/scikeras) instead. See https://www.adriangb.com/scikeras/stable/migration.html for help migrating.\n"
     ]
    },
    {
     "name": "stdout",
     "output_type": "stream",
     "text": [
      "195/195 [==============================] - 0s 2ms/step\n",
      "195/195 [==============================] - 0s 2ms/step\n",
      "195/195 [==============================] - 1s 2ms/step\n"
     ]
    },
    {
     "name": "stderr",
     "output_type": "stream",
     "text": [
      "[I 2024-12-01 16:16:45,757] Trial 9 finished with value: 0.8988393394161144 and parameters: {'units_1': 29, 'units_2': 38, 'units_3': 28, 'alpha_1': 0.06933233456874978, 'alpha_2': 0.0501200421994091, 'alpha_3': 0.06312705096549352, 'dropout_1': 0.46796460606426543, 'dropout_2': 0.2736341271547967, 'dropout_3': 0.46422910111566457, 'l2_kern_1': 0.00011715964470462116, 'l2_kern_2': 0.0007944776402110861, 'l2_kern_3': 0.00015810322887134274, 'l2_bias_1': 0.00781361591103131, 'l2_bias_2': 0.0024239967316519945, 'l2_bias_3': 0.0006759873481765929, 'lr': 0.00030909832583910223, 'batch_size': 32}. Best is trial 9 with value: 0.8988393394161144.\n"
     ]
    },
    {
     "name": "stdout",
     "output_type": "stream",
     "text": [
      "Number of finished trials: 10\n",
      "Best trial:\n",
      "  Value: 0.8988393394161144\n",
      "    units_1: 29\n",
      "    units_2: 38\n",
      "    units_3: 28\n",
      "    alpha_1: 0.06933233456874978\n",
      "    alpha_2: 0.0501200421994091\n",
      "    alpha_3: 0.06312705096549352\n",
      "    dropout_1: 0.46796460606426543\n",
      "    dropout_2: 0.2736341271547967\n",
      "    dropout_3: 0.46422910111566457\n",
      "    l2_kern_1: 0.00011715964470462116\n",
      "    l2_kern_2: 0.0007944776402110861\n",
      "    l2_kern_3: 0.00015810322887134274\n",
      "    l2_bias_1: 0.00781361591103131\n",
      "    l2_bias_2: 0.0024239967316519945\n",
      "    l2_bias_3: 0.0006759873481765929\n",
      "    lr: 0.00030909832583910223\n",
      "    batch_size: 32\n"
     ]
    },
    {
     "name": "stderr",
     "output_type": "stream",
     "text": [
      "C:\\Users\\navee\\AppData\\Roaming\\Python\\Python37\\site-packages\\ipykernel_launcher.py:169: DeprecationWarning: KerasClassifier is deprecated, use Sci-Keras (https://github.com/adriangb/scikeras) instead. See https://www.adriangb.com/scikeras/stable/migration.html for help migrating.\n"
     ]
    },
    {
     "name": "stdout",
     "output_type": "stream",
     "text": [
      "117/117 [==============================] - 0s 2ms/step\n",
      "117/117 [==============================] - 0s 2ms/step\n",
      "117/117 [==============================] - 0s 2ms/step\n",
      "117/117 [==============================] - 0s 2ms/step\n",
      "117/117 [==============================] - 0s 2ms/step\n",
      "37/37 [==============================] - 0s 2ms/step\n",
      "37/37 [==============================] - 0s 2ms/step\n",
      "37/37 [==============================] - 0s 2ms/step\n",
      "37/37 [==============================] - 0s 2ms/step\n",
      "37/37 [==============================] - 0s 2ms/step\n",
      "Train mean AUC score is 0.8983278302303506 while test mean AUC score is 0.8915245800287165.\n",
      "183/183 [==============================] - 0s 2ms/step\n",
      "              precision    recall  f1-score   support\n",
      "\n",
      "          No       0.89      0.91      0.90      4814\n",
      "         Yes       0.50      0.45      0.47      1021\n",
      "\n",
      "    accuracy                           0.83      5835\n",
      "   macro avg       0.69      0.68      0.68      5835\n",
      "weighted avg       0.82      0.83      0.82      5835\n",
      "\n"
     ]
    }
   ],
   "source": [
    "# Genetic Algorithm\n",
    "params_ga = tun.Tuning(n_trials=trials, sampler = optuna.samplers.NSGAIISampler())\n",
    "ga_scores = tun.Best_MLP_model(params_ga)\n",
    "ga_scores = ga_scores.rename(columns={'Tree-structured Parzen Estimator': 'Genetic Algorithm'})"
   ]
  },
  {
   "cell_type": "code",
   "execution_count": 16,
   "id": "59fca483",
   "metadata": {},
   "outputs": [],
   "source": [
    "tun = tuning_methods(X_train, X_val, y_train,  y_val, X_test, y_test)\n",
    "trials = 10\n"
   ]
  },
  {
   "cell_type": "code",
   "execution_count": 17,
   "id": "c3d4eb81",
   "metadata": {},
   "outputs": [
    {
     "name": "stderr",
     "output_type": "stream",
     "text": [
      "C:\\Users\\navee\\AppData\\Roaming\\Python\\Python37\\site-packages\\ipykernel_launcher.py:2: ExperimentalWarning: QMCSampler is experimental (supported from v3.0.0). The interface can change in the future.\n",
      "  \n",
      "[I 2024-12-01 16:27:06,241] A new study created in memory with name: no-name-3b926bcf-524f-4690-8564-4c2dba777646\n",
      "C:\\Users\\navee\\AppData\\Roaming\\Python\\Python37\\site-packages\\ipykernel_launcher.py:60: DeprecationWarning: KerasClassifier is deprecated, use Sci-Keras (https://github.com/adriangb/scikeras) instead. See https://www.adriangb.com/scikeras/stable/migration.html for help migrating.\n"
     ]
    },
    {
     "name": "stdout",
     "output_type": "stream",
     "text": [
      "195/195 [==============================] - 0s 2ms/step\n",
      "195/195 [==============================] - 0s 2ms/step\n",
      "195/195 [==============================] - 0s 2ms/step\n"
     ]
    },
    {
     "name": "stderr",
     "output_type": "stream",
     "text": [
      "[I 2024-12-01 16:30:39,405] Trial 0 finished with value: 0.898192887664888 and parameters: {'units_1': 22, 'units_2': 36, 'units_3': 12, 'alpha_1': 0.05376935549508785, 'alpha_2': 0.044778660745382, 'alpha_3': 0.0880970788801615, 'dropout_1': 0.3988641105074193, 'dropout_2': 0.2403637909830827, 'dropout_3': 0.4923795751680284, 'l2_kern_1': 0.0004398238352361431, 'l2_kern_2': 0.0027554286349768245, 'l2_kern_3': 2.8786037994532855e-05, 'l2_bias_1': 0.0030639534284330728, 'l2_bias_2': 5.6402641106521115e-05, 'l2_bias_3': 0.0011749562487099014, 'lr': 7.019816909685598e-05, 'batch_size': 64}. Best is trial 0 with value: 0.898192887664888.\n",
      "C:\\Users\\navee\\AppData\\Roaming\\Python\\Python37\\site-packages\\ipykernel_launcher.py:60: DeprecationWarning: KerasClassifier is deprecated, use Sci-Keras (https://github.com/adriangb/scikeras) instead. See https://www.adriangb.com/scikeras/stable/migration.html for help migrating.\n",
      "[W 2024-12-01 16:30:39,416] The parameter 'l2_kern_1' in trial#1 is sampled independently by using `RandomSampler` instead of `QMCSampler` (optimization performance may be degraded). `QMCSampler` does not support dynamic search space or `CategoricalDistribution`. You can suppress this warning by setting `warn_independent_sampling` to `False` in the constructor of `QMCSampler`, if this independent sampling is intended behavior.\n",
      "[W 2024-12-01 16:30:39,419] The parameter 'l2_kern_2' in trial#1 is sampled independently by using `RandomSampler` instead of `QMCSampler` (optimization performance may be degraded). `QMCSampler` does not support dynamic search space or `CategoricalDistribution`. You can suppress this warning by setting `warn_independent_sampling` to `False` in the constructor of `QMCSampler`, if this independent sampling is intended behavior.\n",
      "[W 2024-12-01 16:30:39,421] The parameter 'l2_kern_3' in trial#1 is sampled independently by using `RandomSampler` instead of `QMCSampler` (optimization performance may be degraded). `QMCSampler` does not support dynamic search space or `CategoricalDistribution`. You can suppress this warning by setting `warn_independent_sampling` to `False` in the constructor of `QMCSampler`, if this independent sampling is intended behavior.\n",
      "[W 2024-12-01 16:30:39,424] The parameter 'l2_bias_1' in trial#1 is sampled independently by using `RandomSampler` instead of `QMCSampler` (optimization performance may be degraded). `QMCSampler` does not support dynamic search space or `CategoricalDistribution`. You can suppress this warning by setting `warn_independent_sampling` to `False` in the constructor of `QMCSampler`, if this independent sampling is intended behavior.\n",
      "[W 2024-12-01 16:30:39,426] The parameter 'l2_bias_2' in trial#1 is sampled independently by using `RandomSampler` instead of `QMCSampler` (optimization performance may be degraded). `QMCSampler` does not support dynamic search space or `CategoricalDistribution`. You can suppress this warning by setting `warn_independent_sampling` to `False` in the constructor of `QMCSampler`, if this independent sampling is intended behavior.\n",
      "[W 2024-12-01 16:30:39,429] The parameter 'l2_bias_3' in trial#1 is sampled independently by using `RandomSampler` instead of `QMCSampler` (optimization performance may be degraded). `QMCSampler` does not support dynamic search space or `CategoricalDistribution`. You can suppress this warning by setting `warn_independent_sampling` to `False` in the constructor of `QMCSampler`, if this independent sampling is intended behavior.\n",
      "[W 2024-12-01 16:30:39,431] The parameter 'batch_size' in trial#1 is sampled independently by using `RandomSampler` instead of `QMCSampler` (optimization performance may be degraded). `QMCSampler` does not support dynamic search space or `CategoricalDistribution`. You can suppress this warning by setting `warn_independent_sampling` to `False` in the constructor of `QMCSampler`, if this independent sampling is intended behavior.\n"
     ]
    },
    {
     "name": "stdout",
     "output_type": "stream",
     "text": [
      "195/195 [==============================] - 0s 2ms/step\n",
      "195/195 [==============================] - 0s 2ms/step\n",
      "195/195 [==============================] - 0s 2ms/step\n"
     ]
    },
    {
     "name": "stderr",
     "output_type": "stream",
     "text": [
      "[I 2024-12-01 16:35:33,687] Trial 1 finished with value: 0.8943987526936564 and parameters: {'units_1': 2, 'units_2': 2, 'units_3': 2, 'alpha_1': 0.01, 'alpha_2': 0.01, 'alpha_3': 0.01, 'dropout_1': 0.2, 'dropout_2': 0.2, 'dropout_3': 0.2, 'l2_kern_1': 0.00930718891865643, 'l2_kern_2': 2.2896929134203582e-05, 'l2_kern_3': 1.5127589370560652e-05, 'l2_bias_1': 9.808507153153919e-05, 'l2_bias_2': 0.00022871641708819003, 'l2_bias_3': 0.0008584642917158349, 'lr': 5.000000000000004e-05, 'batch_size': 32}. Best is trial 0 with value: 0.898192887664888.\n",
      "C:\\Users\\navee\\AppData\\Roaming\\Python\\Python37\\site-packages\\ipykernel_launcher.py:60: DeprecationWarning: KerasClassifier is deprecated, use Sci-Keras (https://github.com/adriangb/scikeras) instead. See https://www.adriangb.com/scikeras/stable/migration.html for help migrating.\n",
      "[W 2024-12-01 16:35:33,695] The parameter 'batch_size' in trial#2 is sampled independently by using `RandomSampler` instead of `QMCSampler` (optimization performance may be degraded). `QMCSampler` does not support dynamic search space or `CategoricalDistribution`. You can suppress this warning by setting `warn_independent_sampling` to `False` in the constructor of `QMCSampler`, if this independent sampling is intended behavior.\n"
     ]
    },
    {
     "name": "stdout",
     "output_type": "stream",
     "text": [
      "195/195 [==============================] - 0s 2ms/step\n",
      "195/195 [==============================] - 0s 2ms/step\n",
      "195/195 [==============================] - 1s 2ms/step\n"
     ]
    },
    {
     "name": "stderr",
     "output_type": "stream",
     "text": [
      "[I 2024-12-01 16:36:12,230] Trial 2 finished with value: 0.8982428670525432 and parameters: {'units_1': 21, 'units_2': 21, 'units_3': 21, 'alpha_1': 0.05500000000000001, 'alpha_2': 0.05500000000000001, 'alpha_3': 0.05500000000000001, 'dropout_1': 0.35, 'dropout_2': 0.35, 'dropout_3': 0.35, 'l2_kern_1': 0.00031622776601683783, 'l2_kern_2': 0.00031622776601683783, 'l2_kern_3': 0.00031622776601683783, 'l2_bias_1': 0.00031622776601683783, 'l2_bias_2': 0.00031622776601683783, 'l2_bias_3': 0.00031622776601683783, 'lr': 0.0007071067811865483, 'batch_size': 512}. Best is trial 2 with value: 0.8982428670525432.\n",
      "C:\\Users\\navee\\AppData\\Roaming\\Python\\Python37\\site-packages\\ipykernel_launcher.py:60: DeprecationWarning: KerasClassifier is deprecated, use Sci-Keras (https://github.com/adriangb/scikeras) instead. See https://www.adriangb.com/scikeras/stable/migration.html for help migrating.\n",
      "[W 2024-12-01 16:36:12,235] The parameter 'batch_size' in trial#3 is sampled independently by using `RandomSampler` instead of `QMCSampler` (optimization performance may be degraded). `QMCSampler` does not support dynamic search space or `CategoricalDistribution`. You can suppress this warning by setting `warn_independent_sampling` to `False` in the constructor of `QMCSampler`, if this independent sampling is intended behavior.\n"
     ]
    },
    {
     "name": "stdout",
     "output_type": "stream",
     "text": [
      "195/195 [==============================] - 0s 2ms/step\n",
      "195/195 [==============================] - 0s 2ms/step\n",
      "195/195 [==============================] - 0s 2ms/step\n"
     ]
    },
    {
     "name": "stderr",
     "output_type": "stream",
     "text": [
      "[I 2024-12-01 16:38:03,914] Trial 3 finished with value: 0.8981781089636941 and parameters: {'units_1': 31, 'units_2': 11, 'units_3': 11, 'alpha_1': 0.0325, 'alpha_2': 0.0775, 'alpha_3': 0.0775, 'dropout_1': 0.275, 'dropout_2': 0.425, 'dropout_3': 0.425, 'l2_kern_1': 0.0017782794100389236, 'l2_kern_2': 0.0017782794100389236, 'l2_kern_3': 0.0017782794100389236, 'l2_bias_1': 5.6234132519034893e-05, 'l2_bias_2': 5.6234132519034893e-05, 'l2_bias_3': 0.0017782794100389236, 'lr': 0.00018803015465431968, 'batch_size': 128}. Best is trial 2 with value: 0.8982428670525432.\n",
      "C:\\Users\\navee\\AppData\\Roaming\\Python\\Python37\\site-packages\\ipykernel_launcher.py:60: DeprecationWarning: KerasClassifier is deprecated, use Sci-Keras (https://github.com/adriangb/scikeras) instead. See https://www.adriangb.com/scikeras/stable/migration.html for help migrating.\n",
      "[W 2024-12-01 16:38:03,921] The parameter 'batch_size' in trial#4 is sampled independently by using `RandomSampler` instead of `QMCSampler` (optimization performance may be degraded). `QMCSampler` does not support dynamic search space or `CategoricalDistribution`. You can suppress this warning by setting `warn_independent_sampling` to `False` in the constructor of `QMCSampler`, if this independent sampling is intended behavior.\n"
     ]
    },
    {
     "name": "stdout",
     "output_type": "stream",
     "text": [
      "195/195 [==============================] - 0s 2ms/step\n",
      "195/195 [==============================] - 0s 2ms/step\n",
      "195/195 [==============================] - 0s 2ms/step\n"
     ]
    },
    {
     "name": "stderr",
     "output_type": "stream",
     "text": [
      "[I 2024-12-01 16:38:38,441] Trial 4 finished with value: 0.8973673936253893 and parameters: {'units_1': 11, 'units_2': 31, 'units_3': 31, 'alpha_1': 0.0775, 'alpha_2': 0.0325, 'alpha_3': 0.0325, 'dropout_1': 0.425, 'dropout_2': 0.275, 'dropout_3': 0.275, 'l2_kern_1': 5.6234132519034893e-05, 'l2_kern_2': 5.6234132519034893e-05, 'l2_kern_3': 5.6234132519034893e-05, 'l2_bias_1': 0.0017782794100389236, 'l2_bias_2': 0.0017782794100389236, 'l2_bias_3': 5.6234132519034893e-05, 'lr': 0.002659147948472495, 'batch_size': 128}. Best is trial 2 with value: 0.8982428670525432.\n",
      "C:\\Users\\navee\\AppData\\Roaming\\Python\\Python37\\site-packages\\ipykernel_launcher.py:60: DeprecationWarning: KerasClassifier is deprecated, use Sci-Keras (https://github.com/adriangb/scikeras) instead. See https://www.adriangb.com/scikeras/stable/migration.html for help migrating.\n",
      "[W 2024-12-01 16:38:38,446] The parameter 'batch_size' in trial#5 is sampled independently by using `RandomSampler` instead of `QMCSampler` (optimization performance may be degraded). `QMCSampler` does not support dynamic search space or `CategoricalDistribution`. You can suppress this warning by setting `warn_independent_sampling` to `False` in the constructor of `QMCSampler`, if this independent sampling is intended behavior.\n"
     ]
    },
    {
     "name": "stdout",
     "output_type": "stream",
     "text": [
      "195/195 [==============================] - 0s 2ms/step\n",
      "195/195 [==============================] - 0s 2ms/step\n",
      "195/195 [==============================] - 0s 2ms/step\n"
     ]
    },
    {
     "name": "stderr",
     "output_type": "stream",
     "text": [
      "[I 2024-12-01 16:39:06,795] Trial 5 finished with value: 0.8986936062095946 and parameters: {'units_1': 16, 'units_2': 16, 'units_3': 26, 'alpha_1': 0.08875000000000001, 'alpha_2': 0.043750000000000004, 'alpha_3': 0.02125, 'dropout_1': 0.3125, 'dropout_2': 0.4625, 'dropout_3': 0.4625, 'l2_kern_1': 0.0007498942093324562, 'l2_kern_2': 0.004216965034285825, 'l2_kern_3': 0.00013335214321633237, 'l2_bias_1': 0.00013335214321633237, 'l2_bias_2': 0.0007498942093324562, 'l2_bias_3': 0.00013335214321633237, 'lr': 0.005156692688606234, 'batch_size': 512}. Best is trial 5 with value: 0.8986936062095946.\n",
      "C:\\Users\\navee\\AppData\\Roaming\\Python\\Python37\\site-packages\\ipykernel_launcher.py:60: DeprecationWarning: KerasClassifier is deprecated, use Sci-Keras (https://github.com/adriangb/scikeras) instead. See https://www.adriangb.com/scikeras/stable/migration.html for help migrating.\n",
      "[W 2024-12-01 16:39:06,801] The parameter 'batch_size' in trial#6 is sampled independently by using `RandomSampler` instead of `QMCSampler` (optimization performance may be degraded). `QMCSampler` does not support dynamic search space or `CategoricalDistribution`. You can suppress this warning by setting `warn_independent_sampling` to `False` in the constructor of `QMCSampler`, if this independent sampling is intended behavior.\n"
     ]
    },
    {
     "name": "stdout",
     "output_type": "stream",
     "text": [
      "195/195 [==============================] - 0s 2ms/step\n",
      "195/195 [==============================] - 1s 2ms/step\n",
      "195/195 [==============================] - 0s 2ms/step\n"
     ]
    },
    {
     "name": "stderr",
     "output_type": "stream",
     "text": [
      "[I 2024-12-01 16:40:52,395] Trial 6 finished with value: 0.8990716746367111 and parameters: {'units_1': 36, 'units_2': 36, 'units_3': 6, 'alpha_1': 0.043750000000000004, 'alpha_2': 0.08875000000000001, 'alpha_3': 0.06625, 'dropout_1': 0.4625, 'dropout_2': 0.3125, 'dropout_3': 0.3125, 'l2_kern_1': 2.3713737056616547e-05, 'l2_kern_2': 0.00013335214321633237, 'l2_kern_3': 0.004216965034285825, 'l2_bias_1': 0.004216965034285825, 'l2_bias_2': 2.3713737056616547e-05, 'l2_bias_3': 0.004216965034285825, 'lr': 0.00036463323686085564, 'batch_size': 128}. Best is trial 6 with value: 0.8990716746367111.\n",
      "C:\\Users\\navee\\AppData\\Roaming\\Python\\Python37\\site-packages\\ipykernel_launcher.py:60: DeprecationWarning: KerasClassifier is deprecated, use Sci-Keras (https://github.com/adriangb/scikeras) instead. See https://www.adriangb.com/scikeras/stable/migration.html for help migrating.\n",
      "[W 2024-12-01 16:40:52,401] The parameter 'batch_size' in trial#7 is sampled independently by using `RandomSampler` instead of `QMCSampler` (optimization performance may be degraded). `QMCSampler` does not support dynamic search space or `CategoricalDistribution`. You can suppress this warning by setting `warn_independent_sampling` to `False` in the constructor of `QMCSampler`, if this independent sampling is intended behavior.\n"
     ]
    },
    {
     "name": "stdout",
     "output_type": "stream",
     "text": [
      "195/195 [==============================] - 0s 2ms/step\n",
      "195/195 [==============================] - 0s 2ms/step\n",
      "195/195 [==============================] - 0s 2ms/step\n"
     ]
    },
    {
     "name": "stderr",
     "output_type": "stream",
     "text": [
      "[I 2024-12-01 16:44:01,022] Trial 7 finished with value: 0.8991453561280406 and parameters: {'units_1': 26, 'units_2': 6, 'units_3': 36, 'alpha_1': 0.06625, 'alpha_2': 0.06625, 'alpha_3': 0.08875000000000001, 'dropout_1': 0.23750000000000002, 'dropout_2': 0.23750000000000002, 'dropout_3': 0.23750000000000002, 'l2_kern_1': 0.00013335214321633237, 'l2_kern_2': 2.3713737056616547e-05, 'l2_kern_3': 0.0007498942093324562, 'l2_bias_1': 2.3713737056616547e-05, 'l2_bias_2': 0.004216965034285825, 'l2_bias_3': 0.0007498942093324562, 'lr': 0.0013712408783810375, 'batch_size': 16}. Best is trial 7 with value: 0.8991453561280406.\n",
      "C:\\Users\\navee\\AppData\\Roaming\\Python\\Python37\\site-packages\\ipykernel_launcher.py:60: DeprecationWarning: KerasClassifier is deprecated, use Sci-Keras (https://github.com/adriangb/scikeras) instead. See https://www.adriangb.com/scikeras/stable/migration.html for help migrating.\n",
      "[W 2024-12-01 16:44:01,028] The parameter 'batch_size' in trial#8 is sampled independently by using `RandomSampler` instead of `QMCSampler` (optimization performance may be degraded). `QMCSampler` does not support dynamic search space or `CategoricalDistribution`. You can suppress this warning by setting `warn_independent_sampling` to `False` in the constructor of `QMCSampler`, if this independent sampling is intended behavior.\n"
     ]
    },
    {
     "name": "stdout",
     "output_type": "stream",
     "text": [
      "195/195 [==============================] - 0s 2ms/step\n",
      "195/195 [==============================] - 0s 2ms/step\n",
      "195/195 [==============================] - 0s 2ms/step\n"
     ]
    },
    {
     "name": "stderr",
     "output_type": "stream",
     "text": [
      "[I 2024-12-01 16:49:16,679] Trial 8 finished with value: 0.8974451663711043 and parameters: {'units_1': 6, 'units_2': 26, 'units_3': 16, 'alpha_1': 0.02125, 'alpha_2': 0.02125, 'alpha_3': 0.043750000000000004, 'dropout_1': 0.3875, 'dropout_2': 0.3875, 'dropout_3': 0.3875, 'l2_kern_1': 0.004216965034285825, 'l2_kern_2': 0.0007498942093324562, 'l2_kern_3': 2.3713737056616547e-05, 'l2_bias_1': 0.0007498942093324562, 'l2_bias_2': 0.00013335214321633237, 'l2_bias_3': 2.3713737056616547e-05, 'lr': 9.696137237434293e-05, 'batch_size': 16}. Best is trial 7 with value: 0.8991453561280406.\n",
      "C:\\Users\\navee\\AppData\\Roaming\\Python\\Python37\\site-packages\\ipykernel_launcher.py:60: DeprecationWarning: KerasClassifier is deprecated, use Sci-Keras (https://github.com/adriangb/scikeras) instead. See https://www.adriangb.com/scikeras/stable/migration.html for help migrating.\n",
      "[W 2024-12-01 16:49:16,688] The parameter 'batch_size' in trial#9 is sampled independently by using `RandomSampler` instead of `QMCSampler` (optimization performance may be degraded). `QMCSampler` does not support dynamic search space or `CategoricalDistribution`. You can suppress this warning by setting `warn_independent_sampling` to `False` in the constructor of `QMCSampler`, if this independent sampling is intended behavior.\n"
     ]
    },
    {
     "name": "stdout",
     "output_type": "stream",
     "text": [
      "195/195 [==============================] - 0s 2ms/step\n",
      "195/195 [==============================] - 0s 2ms/step\n",
      "195/195 [==============================] - 0s 1ms/step\n"
     ]
    },
    {
     "name": "stderr",
     "output_type": "stream",
     "text": [
      "[I 2024-12-01 16:49:42,264] Trial 9 finished with value: 0.8972115888764866 and parameters: {'units_1': 9, 'units_2': 14, 'units_3': 38, 'alpha_1': 0.04937500000000001, 'alpha_2': 0.060625000000000005, 'alpha_3': 0.038125000000000006, 'dropout_1': 0.33125000000000004, 'dropout_2': 0.48125, 'dropout_3': 0.48125, 'l2_kern_1': 8.659643233600651e-05, 'l2_kern_2': 0.0011547819846894588, 'l2_kern_3': 1.5399265260594915e-05, 'l2_bias_1': 0.0064938163157621165, 'l2_bias_2': 0.0064938163157621165, 'l2_bias_3': 0.0027384196342643626, 'lr': 0.007181011550336231, 'batch_size': 512}. Best is trial 7 with value: 0.8991453561280406.\n",
      "C:\\Users\\navee\\AppData\\Roaming\\Python\\Python37\\site-packages\\ipykernel_launcher.py:169: DeprecationWarning: KerasClassifier is deprecated, use Sci-Keras (https://github.com/adriangb/scikeras) instead. See https://www.adriangb.com/scikeras/stable/migration.html for help migrating.\n"
     ]
    },
    {
     "name": "stdout",
     "output_type": "stream",
     "text": [
      "Number of finished trials: 10\n",
      "Best trial:\n",
      "  Value: 0.8991453561280406\n",
      "    units_1: 26\n",
      "    units_2: 6\n",
      "    units_3: 36\n",
      "    alpha_1: 0.06625\n",
      "    alpha_2: 0.06625\n",
      "    alpha_3: 0.08875000000000001\n",
      "    dropout_1: 0.23750000000000002\n",
      "    dropout_2: 0.23750000000000002\n",
      "    dropout_3: 0.23750000000000002\n",
      "    l2_kern_1: 0.00013335214321633237\n",
      "    l2_kern_2: 2.3713737056616547e-05\n",
      "    l2_kern_3: 0.0007498942093324562\n",
      "    l2_bias_1: 2.3713737056616547e-05\n",
      "    l2_bias_2: 0.004216965034285825\n",
      "    l2_bias_3: 0.0007498942093324562\n",
      "    lr: 0.0013712408783810375\n",
      "    batch_size: 16\n",
      "117/117 [==============================] - 0s 2ms/step\n",
      "117/117 [==============================] - 0s 2ms/step\n",
      "117/117 [==============================] - 0s 2ms/step\n",
      "117/117 [==============================] - 0s 2ms/step\n",
      "117/117 [==============================] - 0s 2ms/step\n",
      "37/37 [==============================] - 0s 3ms/step\n",
      "37/37 [==============================] - 0s 2ms/step\n",
      "37/37 [==============================] - 0s 2ms/step\n",
      "37/37 [==============================] - 0s 2ms/step\n",
      "37/37 [==============================] - 0s 3ms/step\n",
      "Train mean AUC score is 0.9003665168702112 while test mean AUC score is 0.8929107550595503.\n",
      "183/183 [==============================] - 0s 2ms/step\n",
      "              precision    recall  f1-score   support\n",
      "\n",
      "          No       0.83      0.99      0.90      4814\n",
      "         Yes       0.45      0.04      0.07      1021\n",
      "\n",
      "    accuracy                           0.82      5835\n",
      "   macro avg       0.64      0.51      0.48      5835\n",
      "weighted avg       0.76      0.82      0.76      5835\n",
      "\n"
     ]
    }
   ],
   "source": [
    "# Quasi Monte Carlo\n",
    "params_mc = tun.Tuning(n_trials=trials, sampler = optuna.samplers.QMCSampler())\n",
    "mc_scores = tun.Best_MLP_model(params_mc)\n",
    "mc_scores = mc_scores.rename(columns={'Tree-structured Parzen Estimator': 'Quasi Monte Carlo'})"
   ]
  },
  {
   "cell_type": "code",
   "execution_count": 18,
   "id": "d2c738bb",
   "metadata": {},
   "outputs": [
    {
     "data": {
      "text/html": [
       "<div>\n",
       "<style scoped>\n",
       "    .dataframe tbody tr th:only-of-type {\n",
       "        vertical-align: middle;\n",
       "    }\n",
       "\n",
       "    .dataframe tbody tr th {\n",
       "        vertical-align: top;\n",
       "    }\n",
       "\n",
       "    .dataframe thead th {\n",
       "        text-align: right;\n",
       "    }\n",
       "</style>\n",
       "<table border=\"1\" class=\"dataframe\">\n",
       "  <thead>\n",
       "    <tr style=\"text-align: right;\">\n",
       "      <th></th>\n",
       "      <th>Tree-structured Parzen Estimator</th>\n",
       "      <th>Random Sampler</th>\n",
       "      <th>Genetic Algorithm</th>\n",
       "      <th>Quasi Monte Carlo</th>\n",
       "    </tr>\n",
       "  </thead>\n",
       "  <tbody>\n",
       "    <tr>\n",
       "      <th>Accuracy</th>\n",
       "      <td>0.824679</td>\n",
       "      <td>0.823650</td>\n",
       "      <td>0.825364</td>\n",
       "      <td>0.823650</td>\n",
       "    </tr>\n",
       "    <tr>\n",
       "      <th>Precision</th>\n",
       "      <td>0.464286</td>\n",
       "      <td>0.496071</td>\n",
       "      <td>0.501101</td>\n",
       "      <td>0.451220</td>\n",
       "    </tr>\n",
       "    <tr>\n",
       "      <th>Recall</th>\n",
       "      <td>0.012733</td>\n",
       "      <td>0.494613</td>\n",
       "      <td>0.445642</td>\n",
       "      <td>0.036239</td>\n",
       "    </tr>\n",
       "    <tr>\n",
       "      <th>F1-score</th>\n",
       "      <td>0.024786</td>\n",
       "      <td>0.495341</td>\n",
       "      <td>0.471747</td>\n",
       "      <td>0.067090</td>\n",
       "    </tr>\n",
       "    <tr>\n",
       "      <th>AUC</th>\n",
       "      <td>0.504808</td>\n",
       "      <td>0.694024</td>\n",
       "      <td>0.675770</td>\n",
       "      <td>0.513446</td>\n",
       "    </tr>\n",
       "    <tr>\n",
       "      <th>H-measure</th>\n",
       "      <td>0.004285</td>\n",
       "      <td>0.232129</td>\n",
       "      <td>0.207285</td>\n",
       "      <td>0.011715</td>\n",
       "    </tr>\n",
       "  </tbody>\n",
       "</table>\n",
       "</div>"
      ],
      "text/plain": [
       "           Tree-structured Parzen Estimator  Random Sampler  \\\n",
       "Accuracy                           0.824679        0.823650   \n",
       "Precision                          0.464286        0.496071   \n",
       "Recall                             0.012733        0.494613   \n",
       "F1-score                           0.024786        0.495341   \n",
       "AUC                                0.504808        0.694024   \n",
       "H-measure                          0.004285        0.232129   \n",
       "\n",
       "           Genetic Algorithm  Quasi Monte Carlo  \n",
       "Accuracy            0.825364           0.823650  \n",
       "Precision           0.501101           0.451220  \n",
       "Recall              0.445642           0.036239  \n",
       "F1-score            0.471747           0.067090  \n",
       "AUC                 0.675770           0.513446  \n",
       "H-measure           0.207285           0.011715  "
      ]
     },
     "execution_count": 18,
     "metadata": {},
     "output_type": "execute_result"
    }
   ],
   "source": [
    "all_scores = pd.concat([tpe_scores, rs_scores, ga_scores, mc_scores], axis =1)\n",
    "all_scores"
   ]
  },
  {
   "cell_type": "code",
   "execution_count": 20,
   "id": "a873e24f",
   "metadata": {},
   "outputs": [],
   "source": [
    "all_scores.to_csv('Credit_risk_dataset_3_Layer_scores.csv', index=False)"
   ]
  },
  {
   "cell_type": "code",
   "execution_count": null,
   "id": "93e25821",
   "metadata": {},
   "outputs": [],
   "source": []
  }
 ],
 "metadata": {
  "kernelspec": {
   "display_name": "Python 3 (ipykernel)",
   "language": "python",
   "name": "python3"
  },
  "language_info": {
   "codemirror_mode": {
    "name": "ipython",
    "version": 3
   },
   "file_extension": ".py",
   "mimetype": "text/x-python",
   "name": "python",
   "nbconvert_exporter": "python",
   "pygments_lexer": "ipython3",
   "version": "3.7.5"
  }
 },
 "nbformat": 4,
 "nbformat_minor": 5
}
