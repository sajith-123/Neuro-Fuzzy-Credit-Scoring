{
 "cells": [
  {
   "cell_type": "code",
   "execution_count": 1,
   "id": "eec7cf7d",
   "metadata": {},
   "outputs": [
    {
     "data": {
      "text/html": [
       "<div>\n",
       "<style scoped>\n",
       "    .dataframe tbody tr th:only-of-type {\n",
       "        vertical-align: middle;\n",
       "    }\n",
       "\n",
       "    .dataframe tbody tr th {\n",
       "        vertical-align: top;\n",
       "    }\n",
       "\n",
       "    .dataframe thead th {\n",
       "        text-align: right;\n",
       "    }\n",
       "</style>\n",
       "<table border=\"1\" class=\"dataframe\">\n",
       "  <thead>\n",
       "    <tr style=\"text-align: right;\">\n",
       "      <th></th>\n",
       "      <th>person_age</th>\n",
       "      <th>person_income</th>\n",
       "      <th>person_emp_length</th>\n",
       "      <th>loan_amnt</th>\n",
       "      <th>loan_int_rate</th>\n",
       "      <th>loan_status</th>\n",
       "      <th>loan_percent_income</th>\n",
       "      <th>cb_person_cred_hist_length</th>\n",
       "      <th>person_home_ownership</th>\n",
       "      <th>loan_intent</th>\n",
       "      <th>loan_grade</th>\n",
       "      <th>cb_person_default_on_file</th>\n",
       "    </tr>\n",
       "  </thead>\n",
       "  <tbody>\n",
       "    <tr>\n",
       "      <th>0</th>\n",
       "      <td>23</td>\n",
       "      <td>62500</td>\n",
       "      <td>7.0</td>\n",
       "      <td>26000</td>\n",
       "      <td>11.71</td>\n",
       "      <td>1</td>\n",
       "      <td>0.42</td>\n",
       "      <td>2</td>\n",
       "      <td>3</td>\n",
       "      <td>3</td>\n",
       "      <td>1</td>\n",
       "      <td>0</td>\n",
       "    </tr>\n",
       "    <tr>\n",
       "      <th>1</th>\n",
       "      <td>23</td>\n",
       "      <td>120000</td>\n",
       "      <td>1.0</td>\n",
       "      <td>25600</td>\n",
       "      <td>12.69</td>\n",
       "      <td>0</td>\n",
       "      <td>0.21</td>\n",
       "      <td>3</td>\n",
       "      <td>3</td>\n",
       "      <td>1</td>\n",
       "      <td>1</td>\n",
       "      <td>0</td>\n",
       "    </tr>\n",
       "    <tr>\n",
       "      <th>2</th>\n",
       "      <td>22</td>\n",
       "      <td>60000</td>\n",
       "      <td>0.0</td>\n",
       "      <td>25475</td>\n",
       "      <td>10.99</td>\n",
       "      <td>1</td>\n",
       "      <td>0.42</td>\n",
       "      <td>3</td>\n",
       "      <td>3</td>\n",
       "      <td>5</td>\n",
       "      <td>1</td>\n",
       "      <td>0</td>\n",
       "    </tr>\n",
       "    <tr>\n",
       "      <th>3</th>\n",
       "      <td>23</td>\n",
       "      <td>83000</td>\n",
       "      <td>7.0</td>\n",
       "      <td>25300</td>\n",
       "      <td>10.99</td>\n",
       "      <td>1</td>\n",
       "      <td>0.30</td>\n",
       "      <td>3</td>\n",
       "      <td>3</td>\n",
       "      <td>1</td>\n",
       "      <td>1</td>\n",
       "      <td>0</td>\n",
       "    </tr>\n",
       "    <tr>\n",
       "      <th>4</th>\n",
       "      <td>21</td>\n",
       "      <td>42500</td>\n",
       "      <td>3.0</td>\n",
       "      <td>25000</td>\n",
       "      <td>12.73</td>\n",
       "      <td>1</td>\n",
       "      <td>0.59</td>\n",
       "      <td>3</td>\n",
       "      <td>3</td>\n",
       "      <td>1</td>\n",
       "      <td>2</td>\n",
       "      <td>1</td>\n",
       "    </tr>\n",
       "  </tbody>\n",
       "</table>\n",
       "</div>"
      ],
      "text/plain": [
       "   person_age  person_income  person_emp_length  loan_amnt  loan_int_rate  \\\n",
       "0          23          62500                7.0      26000          11.71   \n",
       "1          23         120000                1.0      25600          12.69   \n",
       "2          22          60000                0.0      25475          10.99   \n",
       "3          23          83000                7.0      25300          10.99   \n",
       "4          21          42500                3.0      25000          12.73   \n",
       "\n",
       "   loan_status  loan_percent_income  cb_person_cred_hist_length  \\\n",
       "0            1                 0.42                           2   \n",
       "1            0                 0.21                           3   \n",
       "2            1                 0.42                           3   \n",
       "3            1                 0.30                           3   \n",
       "4            1                 0.59                           3   \n",
       "\n",
       "   person_home_ownership  loan_intent  loan_grade  cb_person_default_on_file  \n",
       "0                      3            3           1                          0  \n",
       "1                      3            1           1                          0  \n",
       "2                      3            5           1                          0  \n",
       "3                      3            1           1                          0  \n",
       "4                      3            1           2                          1  "
      ]
     },
     "execution_count": 1,
     "metadata": {},
     "output_type": "execute_result"
    }
   ],
   "source": [
    "import pandas as pd\n",
    "import numpy as np\n",
    "import seaborn as sns\n",
    "import matplotlib.pyplot as plt\n",
    "\n",
    "import timeit\n",
    "\n",
    "from sklearn.metrics import confusion_matrix, classification_report, precision_recall_curve\n",
    "from sklearn.metrics import roc_auc_score, roc_curve, f1_score, precision_score, recall_score, accuracy_score, auc\n",
    "from hmeasure import h_score\n",
    "from sklearn.model_selection import train_test_split\n",
    "from sklearn.preprocessing import StandardScaler\n",
    "from sklearn.metrics import classification_report, precision_score, recall_score, f1_score, precision_recall_fscore_support,roc_auc_score, accuracy_score\n",
    "from sklearn.model_selection import cross_val_score\n",
    "from sklearn.preprocessing import LabelEncoder\n",
    "from sklearn.model_selection import StratifiedKFold\n",
    "from sklearn.pipeline import Pipeline\n",
    "\n",
    "import optuna\n",
    "\n",
    "import tensorflow as tf\n",
    "from tensorflow import keras\n",
    "from tensorflow.keras import layers\n",
    "from tensorflow.keras.callbacks import EarlyStopping\n",
    "from tensorflow.keras import regularizers\n",
    "\n",
    "from keras.layers import Dense, Dropout\n",
    "from keras.regularizers import l2\n",
    "from keras.layers import LeakyReLU\n",
    "from keras.wrappers.scikit_learn import KerasClassifier\n",
    "from keras import initializers\n",
    "from keras.models import Sequential\n",
    "from keras.optimizers import Adam\n",
    "\n",
    "# Read the data using csv\n",
    "path_train = 'credit_risk-dataset-cleanedtraining.csv'\n",
    "df_train = pd.read_csv(path_train, encoding = \"ISO-8859-1\")\n",
    "\n",
    "path_test = 'credit_risk-dataset-cleanedtesting.csv'\n",
    "df_test = pd.read_csv(path_test, encoding = \"ISO-8859-1\")\n",
    "\n",
    "# Prin 5 forst lines of df\n",
    "df_train.head()"
   ]
  },
  {
   "cell_type": "code",
   "execution_count": 2,
   "id": "7c11312a",
   "metadata": {},
   "outputs": [],
   "source": [
    "X_test, y_test = df_test.iloc[:,:-1], df_test.iloc[:,-1]\n",
    "\n",
    "X_train, y_train = df_train.iloc[:,:-1], df_train.iloc[:,-1]\n",
    "\n",
    "X_train, X_val, y_train, y_val = train_test_split(X_train, y_train, stratify=y_train, test_size=0.2)"
   ]
  },
  {
   "cell_type": "code",
   "execution_count": 3,
   "id": "b4f08556",
   "metadata": {},
   "outputs": [],
   "source": [
    "class tuning_methods:\n",
    "    \n",
    "    def __init__(self, X_train, X_val, y_train,  y_val, X_test, y_test):\n",
    "        self.X_train = X_train\n",
    "        self.X_val = X_val\n",
    "        self.y_train = y_train\n",
    "        self.y_val = y_val\n",
    "        self.X_test = X_test\n",
    "        self.y_test = y_test\n",
    "        \n",
    "    \n",
    "    # Define the Keras model\n",
    "    def create_model(self, units, alpha, dropout, l2_kern, l2_bias, lr, batch_size):        # \n",
    "        \n",
    "        model = Sequential()\n",
    "        model.add(Dense(units, input_shape=(self.X_train.shape[1],), \n",
    "                                 activation =model.add(LeakyReLU(alpha=alpha)),\n",
    "                                 kernel_regularizer = l2(l2_kern),\n",
    "                                 bias_regularizer = l2(l2_bias),\n",
    "                                 kernel_initializer = initializers.RandomNormal(mean=0.0, stddev=0.05)\n",
    "            ))\n",
    "        model.add(Dropout(dropout))\n",
    "        model.add(Dense(1, activation='sigmoid'))\n",
    "        optimizer = Adam(learning_rate=lr)\n",
    "        model.compile(optimizer=optimizer,\n",
    "                  loss='binary_crossentropy', \n",
    "                  metrics=['AUC'])\n",
    "        return model\n",
    "    \n",
    "    \n",
    "    # Define the Optuna study\n",
    "    def objective(self, trial):\n",
    "        \n",
    "        # Define the pipeline\n",
    "        pipeline = Pipeline([\n",
    "                ('scaler', StandardScaler()),\n",
    "                ('classifier', KerasClassifier(build_fn=self.create_model, verbose=0))\n",
    "                ])\n",
    "\n",
    "        # Set hyperparameters\n",
    "        units = trial.suggest_int('units', 2, 40)\n",
    "        alpha = trial.suggest_float('alpha', 0.01, 0.1)\n",
    "        dropout = trial.suggest_float(\"dropout\", 0.2, 0.5)    \n",
    "        lr = trial.suggest_float(\"lr\", 5e-5, 1e-2, log=True)\n",
    "        batch_size = trial.suggest_categorical('batch_size', [16, 32, 64, 128, 256, 512, 1024])\n",
    "        l2_kern = trial.suggest_float(\"l2_kern\",  1e-5, 1e-2, log=True)\n",
    "        l2_bias = trial.suggest_float(\"l2_bias\",  1e-5, 1e-2, log=True)\n",
    "        epochs = 200\n",
    "        validation_data = (self.X_val, self.y_val)\n",
    "        early_stopping = EarlyStopping(monitor='loss', patience=5, restore_best_weights=True)\n",
    "        pipeline.set_params(classifier__units=units,\n",
    "                        classifier__alpha=alpha,\n",
    "                        classifier__l2_kern=l2_kern,\n",
    "                        classifier__l2_bias=l2_bias,\n",
    "                        classifier__dropout=dropout,\n",
    "                        classifier__lr=lr,\n",
    "                        classifier__epochs = epochs,\n",
    "                        classifier__batch_size = batch_size,\n",
    "                        classifier__validation_data = validation_data,\n",
    "                        classifier__callbacks=[early_stopping])\n",
    "        kfold = StratifiedKFold(n_splits=3, shuffle=True, random_state=2023)\n",
    "        scores = cross_val_score(pipeline, self.X_train, self.y_train, cv=kfold, scoring=\"roc_auc\", error_score='raise')\n",
    "    \n",
    "        if trial.should_prune():\n",
    "            raise optuna.TrialPruned()\n",
    "\n",
    "        return np.mean(scores)\n",
    "\n",
    "    def Tuning(self, n_trials=100, sampler = optuna.samplers.TPESampler()):\n",
    "        \n",
    "        start = timeit.default_timer()\n",
    "\n",
    "        study = optuna.create_study(direction=\"maximize\",             \n",
    "                            sampler=sampler, \n",
    "                            pruner= optuna.pruners.MedianPruner()\n",
    "                           )\n",
    "        study.optimize(self.objective, n_trials=n_trials)  # to be converged it needs atleast 200 trials \n",
    "\n",
    "        print(\"Number of finished trials: {}\".format(len(study.trials)))\n",
    "\n",
    "        print(\"Best trial:\")\n",
    "        trial = study.best_trial\n",
    "\n",
    "        print(\"  Value: {}\".format(trial.value))\n",
    "\n",
    "        stop = timeit.default_timer()\n",
    "\n",
    "        time_opt = stop - start\n",
    "        params_TPE = []\n",
    "\n",
    "        for key, value in trial.params.items():\n",
    "            params_TPE.append([key,value])\n",
    "            print(\"    {}: {}\".format(key, value))\n",
    "            \n",
    "        params_TPE.append([\"time\",round(time_opt/60,2)])\n",
    "\n",
    "        return params_TPE\n",
    "    \n",
    "    def Best_MLP_model(self, params):\n",
    "        units = params[0][1]\n",
    "        alpha = np.round(params[1][1],3)\n",
    "        dropout = np.round(params[2][1],2)\n",
    "        lr = np.round(params[3][1],5)\n",
    "        batchs = params[4][1]\n",
    "        kernel_regularizer=np.round(params[5][1],5)\n",
    "        bias_regularizer=np.round(params[6][1],5)\n",
    "\n",
    "        # Define the pipeline\n",
    "        pipeline = Pipeline([\n",
    "                    ('scaler', StandardScaler()),\n",
    "                    ('classifier', KerasClassifier(build_fn=tun.create_model, verbose=0))\n",
    "                ])\n",
    "\n",
    "        # Set hyperparameters\n",
    "        epochs = 200\n",
    "        validation_data = (self.X_val, self.y_val)\n",
    "        early_stopping = EarlyStopping(monitor='loss', patience=5, restore_best_weights=True)\n",
    "        pipeline.set_params(classifier__units=units,\n",
    "                        classifier__alpha=alpha,\n",
    "                        classifier__l2_kern=kernel_regularizer,\n",
    "                        classifier__l2_bias=bias_regularizer,\n",
    "                        classifier__dropout=dropout,\n",
    "                        classifier__lr=lr,\n",
    "                        classifier__epochs = epochs,\n",
    "                        classifier__batch_size = batchs,\n",
    "                        classifier__validation_data = validation_data,\n",
    "                        classifier__callbacks=[early_stopping])\n",
    "        \n",
    "        # Use cross validation to monitor the deferrence between training and testing data as an evidence of overfitting\n",
    "        kfold = StratifiedKFold(n_splits=5, shuffle=True, random_state=2023)\n",
    "        scores_train = cross_val_score(pipeline, self.X_train, self.y_train, cv=kfold, scoring=\"roc_auc\", error_score='raise')\n",
    "        mean_score_train = np.mean(scores_train)\n",
    "\n",
    "        kfold = StratifiedKFold(n_splits=5, shuffle=True, random_state=2023)\n",
    "        scores_test = cross_val_score(pipeline, self.X_test, self.y_test, cv=kfold, scoring=\"roc_auc\", error_score='raise')\n",
    "        mean_score_test = np.mean(scores_test)\n",
    "\n",
    "        print(f\"Train mean AUC score is {mean_score_train} while test mean AUC score is {mean_score_test}.\")\n",
    "      \n",
    "        # Fit the pipeline to the training data\n",
    "        history = pipeline.fit(self.X_train, self.y_train)\n",
    "\n",
    "        #score = pipeline.evaluate(X_test, y_test, verbose=0)  \n",
    "\n",
    "        y_pred_prob_tpe = pipeline.predict(self.X_test)\n",
    "\n",
    "        y_pred_tpe = y_pred_prob_tpe.round()\n",
    "\n",
    "        print(classification_report(self.y_test, y_pred_tpe, target_names = ['No','Yes']))\n",
    "\n",
    "        acc = accuracy_score(self.y_test, y_pred_tpe)\n",
    "        pre = precision_score(self.y_test, y_pred_tpe)\n",
    "        rec = recall_score(self.y_test, y_pred_tpe)\n",
    "        f1 = f1_score(self.y_test, y_pred_tpe)\n",
    "        auc = roc_auc_score(self.y_test, y_pred_tpe)\n",
    "        y_test_array = np.array(self.y_test)\n",
    "        y_pred_tpe_array = np.array(y_pred_tpe)\n",
    "        H_measure = h_score(y_test_array, y_pred_tpe_array)\n",
    "\n",
    "        opt = [acc, pre, rec, f1, auc, H_measure]\n",
    "\n",
    "        scores = pd.DataFrame(opt, index =['Accuracy', 'Precision', 'Recall', 'F1-score', 'AUC', \"H-measure\"], \n",
    "                              columns =['Tree-structured Parzen Estimator'])\n",
    "        \n",
    "        return scores "
   ]
  },
  {
   "cell_type": "code",
   "execution_count": 4,
   "id": "d2574baf",
   "metadata": {},
   "outputs": [
    {
     "name": "stderr",
     "output_type": "stream",
     "text": [
      "[I 2024-12-02 15:01:53,923] A new study created in memory with name: no-name-a1cbcda2-d9d8-4313-a3f3-f77540ec9a8e\n",
      "C:\\Users\\navee\\AppData\\Roaming\\Python\\Python37\\site-packages\\ipykernel_launcher.py:37: DeprecationWarning: KerasClassifier is deprecated, use Sci-Keras (https://github.com/adriangb/scikeras) instead. See https://www.adriangb.com/scikeras/stable/migration.html for help migrating.\n"
     ]
    },
    {
     "name": "stdout",
     "output_type": "stream",
     "text": [
      "195/195 [==============================] - 0s 1ms/step\n",
      "195/195 [==============================] - 0s 2ms/step\n",
      "195/195 [==============================] - 0s 1ms/step\n"
     ]
    },
    {
     "name": "stderr",
     "output_type": "stream",
     "text": [
      "[I 2024-12-02 15:02:20,671] Trial 0 finished with value: 0.89449959046896 and parameters: {'units': 4, 'alpha': 0.0973823052514357, 'dropout': 0.44589501843197965, 'lr': 0.0014337085576995492, 'batch_size': 1024, 'l2_kern': 6.061999444746172e-05, 'l2_bias': 0.002231063650809536}. Best is trial 0 with value: 0.89449959046896.\n",
      "C:\\Users\\navee\\AppData\\Roaming\\Python\\Python37\\site-packages\\ipykernel_launcher.py:37: DeprecationWarning: KerasClassifier is deprecated, use Sci-Keras (https://github.com/adriangb/scikeras) instead. See https://www.adriangb.com/scikeras/stable/migration.html for help migrating.\n"
     ]
    },
    {
     "name": "stdout",
     "output_type": "stream",
     "text": [
      "195/195 [==============================] - 0s 2ms/step\n",
      "195/195 [==============================] - 0s 2ms/step\n",
      "195/195 [==============================] - 0s 2ms/step\n"
     ]
    },
    {
     "name": "stderr",
     "output_type": "stream",
     "text": [
      "[I 2024-12-02 15:02:46,162] Trial 1 finished with value: 0.8973814715350535 and parameters: {'units': 25, 'alpha': 0.057512213274957445, 'dropout': 0.32731777555945407, 'lr': 0.0013276346245265408, 'batch_size': 1024, 'l2_kern': 0.0001698811355251308, 'l2_bias': 2.8443871264100175e-05}. Best is trial 1 with value: 0.8973814715350535.\n",
      "C:\\Users\\navee\\AppData\\Roaming\\Python\\Python37\\site-packages\\ipykernel_launcher.py:37: DeprecationWarning: KerasClassifier is deprecated, use Sci-Keras (https://github.com/adriangb/scikeras) instead. See https://www.adriangb.com/scikeras/stable/migration.html for help migrating.\n"
     ]
    },
    {
     "name": "stdout",
     "output_type": "stream",
     "text": [
      "195/195 [==============================] - 0s 2ms/step\n",
      "195/195 [==============================] - 0s 1ms/step\n",
      "195/195 [==============================] - 0s 1ms/step\n"
     ]
    },
    {
     "name": "stderr",
     "output_type": "stream",
     "text": [
      "[I 2024-12-02 15:03:28,361] Trial 2 finished with value: 0.8953895477020759 and parameters: {'units': 29, 'alpha': 0.013964564834259625, 'dropout': 0.4163386836633757, 'lr': 0.0059467561187114635, 'batch_size': 64, 'l2_kern': 0.009795242418011598, 'l2_bias': 0.0001058901061835439}. Best is trial 1 with value: 0.8973814715350535.\n",
      "C:\\Users\\navee\\AppData\\Roaming\\Python\\Python37\\site-packages\\ipykernel_launcher.py:37: DeprecationWarning: KerasClassifier is deprecated, use Sci-Keras (https://github.com/adriangb/scikeras) instead. See https://www.adriangb.com/scikeras/stable/migration.html for help migrating.\n"
     ]
    },
    {
     "name": "stdout",
     "output_type": "stream",
     "text": [
      "195/195 [==============================] - 0s 2ms/step\n",
      "195/195 [==============================] - 0s 2ms/step\n",
      "195/195 [==============================] - 0s 2ms/step\n"
     ]
    },
    {
     "name": "stderr",
     "output_type": "stream",
     "text": [
      "[I 2024-12-02 15:05:24,110] Trial 3 finished with value: 0.8879163145312617 and parameters: {'units': 5, 'alpha': 0.09491305913140995, 'dropout': 0.24735834210438642, 'lr': 5.9280676730727535e-05, 'batch_size': 128, 'l2_kern': 0.0008860678576956, 'l2_bias': 0.00955151157184621}. Best is trial 1 with value: 0.8973814715350535.\n",
      "C:\\Users\\navee\\AppData\\Roaming\\Python\\Python37\\site-packages\\ipykernel_launcher.py:37: DeprecationWarning: KerasClassifier is deprecated, use Sci-Keras (https://github.com/adriangb/scikeras) instead. See https://www.adriangb.com/scikeras/stable/migration.html for help migrating.\n"
     ]
    },
    {
     "name": "stdout",
     "output_type": "stream",
     "text": [
      "195/195 [==============================] - 0s 2ms/step\n",
      "195/195 [==============================] - 0s 2ms/step\n",
      "195/195 [==============================] - 0s 2ms/step\n"
     ]
    },
    {
     "name": "stderr",
     "output_type": "stream",
     "text": [
      "[I 2024-12-02 15:06:35,093] Trial 4 finished with value: 0.8514575301036728 and parameters: {'units': 7, 'alpha': 0.08159488268120987, 'dropout': 0.30346765025407674, 'lr': 7.226343446582974e-05, 'batch_size': 512, 'l2_kern': 0.003815510479373692, 'l2_bias': 0.00051593741990606}. Best is trial 1 with value: 0.8973814715350535.\n",
      "C:\\Users\\navee\\AppData\\Roaming\\Python\\Python37\\site-packages\\ipykernel_launcher.py:37: DeprecationWarning: KerasClassifier is deprecated, use Sci-Keras (https://github.com/adriangb/scikeras) instead. See https://www.adriangb.com/scikeras/stable/migration.html for help migrating.\n"
     ]
    },
    {
     "name": "stdout",
     "output_type": "stream",
     "text": [
      "195/195 [==============================] - 0s 2ms/step\n",
      "195/195 [==============================] - 0s 1ms/step\n",
      "195/195 [==============================] - 0s 2ms/step\n"
     ]
    },
    {
     "name": "stderr",
     "output_type": "stream",
     "text": [
      "[I 2024-12-02 15:07:41,577] Trial 5 finished with value: 0.8772178947590913 and parameters: {'units': 3, 'alpha': 0.04826192044955556, 'dropout': 0.34105612914139205, 'lr': 0.00013483328479507652, 'batch_size': 256, 'l2_kern': 3.717178660378275e-05, 'l2_bias': 0.002782091392015131}. Best is trial 1 with value: 0.8973814715350535.\n",
      "C:\\Users\\navee\\AppData\\Roaming\\Python\\Python37\\site-packages\\ipykernel_launcher.py:37: DeprecationWarning: KerasClassifier is deprecated, use Sci-Keras (https://github.com/adriangb/scikeras) instead. See https://www.adriangb.com/scikeras/stable/migration.html for help migrating.\n"
     ]
    },
    {
     "name": "stdout",
     "output_type": "stream",
     "text": [
      "195/195 [==============================] - 0s 2ms/step\n",
      "195/195 [==============================] - 0s 2ms/step\n",
      "195/195 [==============================] - 0s 1ms/step\n"
     ]
    },
    {
     "name": "stderr",
     "output_type": "stream",
     "text": [
      "[I 2024-12-02 15:08:18,444] Trial 6 finished with value: 0.8972180276067973 and parameters: {'units': 31, 'alpha': 0.053797404470888315, 'dropout': 0.33998796477014126, 'lr': 0.0006658916475077251, 'batch_size': 256, 'l2_kern': 0.0031164487978176127, 'l2_bias': 0.0001403109158800558}. Best is trial 1 with value: 0.8973814715350535.\n",
      "C:\\Users\\navee\\AppData\\Roaming\\Python\\Python37\\site-packages\\ipykernel_launcher.py:37: DeprecationWarning: KerasClassifier is deprecated, use Sci-Keras (https://github.com/adriangb/scikeras) instead. See https://www.adriangb.com/scikeras/stable/migration.html for help migrating.\n"
     ]
    },
    {
     "name": "stdout",
     "output_type": "stream",
     "text": [
      "195/195 [==============================] - 0s 1ms/step\n",
      "195/195 [==============================] - 0s 1ms/step\n",
      "195/195 [==============================] - 0s 2ms/step\n"
     ]
    },
    {
     "name": "stderr",
     "output_type": "stream",
     "text": [
      "[I 2024-12-02 15:09:10,223] Trial 7 finished with value: 0.8931388683581668 and parameters: {'units': 25, 'alpha': 0.0770109504025927, 'dropout': 0.3272297086017917, 'lr': 0.00022523763884947905, 'batch_size': 1024, 'l2_kern': 0.0007988791757511775, 'l2_bias': 0.0031145073357220867}. Best is trial 1 with value: 0.8973814715350535.\n",
      "C:\\Users\\navee\\AppData\\Roaming\\Python\\Python37\\site-packages\\ipykernel_launcher.py:37: DeprecationWarning: KerasClassifier is deprecated, use Sci-Keras (https://github.com/adriangb/scikeras) instead. See https://www.adriangb.com/scikeras/stable/migration.html for help migrating.\n"
     ]
    },
    {
     "name": "stdout",
     "output_type": "stream",
     "text": [
      "195/195 [==============================] - 0s 2ms/step\n",
      "195/195 [==============================] - 0s 2ms/step\n",
      "195/195 [==============================] - 0s 2ms/step\n"
     ]
    },
    {
     "name": "stderr",
     "output_type": "stream",
     "text": [
      "[I 2024-12-02 15:09:23,806] Trial 8 finished with value: 0.897225498863156 and parameters: {'units': 34, 'alpha': 0.04568702595389418, 'dropout': 0.2436613622754172, 'lr': 0.009019931726499703, 'batch_size': 1024, 'l2_kern': 0.0006109574024986788, 'l2_bias': 3.3438753259106376e-05}. Best is trial 1 with value: 0.8973814715350535.\n",
      "C:\\Users\\navee\\AppData\\Roaming\\Python\\Python37\\site-packages\\ipykernel_launcher.py:37: DeprecationWarning: KerasClassifier is deprecated, use Sci-Keras (https://github.com/adriangb/scikeras) instead. See https://www.adriangb.com/scikeras/stable/migration.html for help migrating.\n"
     ]
    },
    {
     "name": "stdout",
     "output_type": "stream",
     "text": [
      "195/195 [==============================] - 0s 2ms/step\n",
      "195/195 [==============================] - 0s 2ms/step\n",
      "195/195 [==============================] - 0s 2ms/step\n"
     ]
    },
    {
     "name": "stderr",
     "output_type": "stream",
     "text": [
      "[I 2024-12-02 15:13:07,302] Trial 9 finished with value: 0.8954775167334857 and parameters: {'units': 14, 'alpha': 0.039135133033294335, 'dropout': 0.22272127975445125, 'lr': 6.882214418253859e-05, 'batch_size': 16, 'l2_kern': 0.0002753596399851084, 'l2_bias': 0.0013573106981303112}. Best is trial 1 with value: 0.8973814715350535.\n",
      "C:\\Users\\navee\\AppData\\Roaming\\Python\\Python37\\site-packages\\ipykernel_launcher.py:111: DeprecationWarning: KerasClassifier is deprecated, use Sci-Keras (https://github.com/adriangb/scikeras) instead. See https://www.adriangb.com/scikeras/stable/migration.html for help migrating.\n"
     ]
    },
    {
     "name": "stdout",
     "output_type": "stream",
     "text": [
      "Number of finished trials: 10\n",
      "Best trial:\n",
      "  Value: 0.8973814715350535\n",
      "    units: 25\n",
      "    alpha: 0.057512213274957445\n",
      "    dropout: 0.32731777555945407\n",
      "    lr: 0.0013276346245265408\n",
      "    batch_size: 1024\n",
      "    l2_kern: 0.0001698811355251308\n",
      "    l2_bias: 2.8443871264100175e-05\n",
      "117/117 [==============================] - 0s 2ms/step\n",
      "117/117 [==============================] - 0s 2ms/step\n",
      "117/117 [==============================] - 0s 2ms/step\n",
      "117/117 [==============================] - 0s 2ms/step\n",
      "117/117 [==============================] - 0s 2ms/step\n",
      "37/37 [==============================] - 0s 2ms/step\n",
      "37/37 [==============================] - 0s 1ms/step\n",
      "37/37 [==============================] - 0s 1ms/step\n",
      "37/37 [==============================] - 0s 1ms/step\n",
      "37/37 [==============================] - 0s 895us/step\n",
      "Train mean AUC score is 0.8976027595551758 while test mean AUC score is 0.8897159092643747.\n",
      "183/183 [==============================] - 0s 609us/step\n",
      "              precision    recall  f1-score   support\n",
      "\n",
      "          No       0.87      0.92      0.90      4814\n",
      "         Yes       0.50      0.36      0.42      1021\n",
      "\n",
      "    accuracy                           0.83      5835\n",
      "   macro avg       0.69      0.64      0.66      5835\n",
      "weighted avg       0.81      0.83      0.81      5835\n",
      "\n"
     ]
    }
   ],
   "source": [
    "tun = tuning_methods(X_train, X_val, y_train,  y_val, X_test, y_test)\n",
    "trials = 10\n",
    "\n",
    "# Tree-structured Parzen Estimator\n",
    "params_tpe = tun.Tuning(n_trials=trials, sampler = optuna.samplers.TPESampler())\n",
    "tpe_scores = tun.Best_MLP_model(params_tpe)"
   ]
  },
  {
   "cell_type": "code",
   "execution_count": 8,
   "id": "219d2b86",
   "metadata": {},
   "outputs": [
    {
     "name": "stderr",
     "output_type": "stream",
     "text": [
      "[I 2024-11-30 22:43:03,465] A new study created in memory with name: no-name-639a3470-2e19-40b3-8f1b-ac3cc09ce8e3\n",
      "C:\\Users\\navee\\AppData\\Roaming\\Python\\Python37\\site-packages\\ipykernel_launcher.py:37: DeprecationWarning: KerasClassifier is deprecated, use Sci-Keras (https://github.com/adriangb/scikeras) instead. See https://www.adriangb.com/scikeras/stable/migration.html for help migrating.\n"
     ]
    },
    {
     "name": "stdout",
     "output_type": "stream",
     "text": [
      "195/195 [==============================] - 0s 2ms/step\n",
      "195/195 [==============================] - 0s 2ms/step\n",
      "195/195 [==============================] - 1s 2ms/step\n"
     ]
    },
    {
     "name": "stderr",
     "output_type": "stream",
     "text": [
      "[I 2024-11-30 22:47:06,738] Trial 0 finished with value: 0.896767877209648 and parameters: {'units': 22, 'alpha': 0.041742375954221644, 'dropout': 0.4306870591679094, 'lr': 5.666977658187691e-05, 'batch_size': 16, 'l2_kern': 8.920660148109299e-05, 'l2_bias': 0.0001727887292383997}. Best is trial 0 with value: 0.896767877209648.\n",
      "C:\\Users\\navee\\AppData\\Roaming\\Python\\Python37\\site-packages\\ipykernel_launcher.py:37: DeprecationWarning: KerasClassifier is deprecated, use Sci-Keras (https://github.com/adriangb/scikeras) instead. See https://www.adriangb.com/scikeras/stable/migration.html for help migrating.\n"
     ]
    },
    {
     "name": "stdout",
     "output_type": "stream",
     "text": [
      "195/195 [==============================] - 0s 2ms/step\n",
      "195/195 [==============================] - 0s 2ms/step\n",
      "195/195 [==============================] - 0s 2ms/step\n"
     ]
    },
    {
     "name": "stderr",
     "output_type": "stream",
     "text": [
      "[I 2024-11-30 22:47:45,830] Trial 1 finished with value: 0.8981252949723814 and parameters: {'units': 39, 'alpha': 0.06584153055154304, 'dropout': 0.27392644967702595, 'lr': 0.0003169023066660518, 'batch_size': 512, 'l2_kern': 0.00773673163126706, 'l2_bias': 1.3205470435460643e-05}. Best is trial 1 with value: 0.8981252949723814.\n",
      "C:\\Users\\navee\\AppData\\Roaming\\Python\\Python37\\site-packages\\ipykernel_launcher.py:37: DeprecationWarning: KerasClassifier is deprecated, use Sci-Keras (https://github.com/adriangb/scikeras) instead. See https://www.adriangb.com/scikeras/stable/migration.html for help migrating.\n"
     ]
    },
    {
     "name": "stdout",
     "output_type": "stream",
     "text": [
      "195/195 [==============================] - 0s 2ms/step\n",
      "195/195 [==============================] - 1s 2ms/step\n",
      "195/195 [==============================] - 1s 2ms/step\n"
     ]
    },
    {
     "name": "stderr",
     "output_type": "stream",
     "text": [
      "[I 2024-11-30 22:48:06,856] Trial 2 finished with value: 0.8987292313511697 and parameters: {'units': 32, 'alpha': 0.07490449958563623, 'dropout': 0.2609107164869424, 'lr': 0.0015819966605101774, 'batch_size': 1024, 'l2_kern': 5.954541576064576e-05, 'l2_bias': 4.863522990115782e-05}. Best is trial 2 with value: 0.8987292313511697.\n",
      "C:\\Users\\navee\\AppData\\Roaming\\Python\\Python37\\site-packages\\ipykernel_launcher.py:37: DeprecationWarning: KerasClassifier is deprecated, use Sci-Keras (https://github.com/adriangb/scikeras) instead. See https://www.adriangb.com/scikeras/stable/migration.html for help migrating.\n"
     ]
    },
    {
     "name": "stdout",
     "output_type": "stream",
     "text": [
      "195/195 [==============================] - 0s 2ms/step\n",
      "195/195 [==============================] - 0s 2ms/step\n",
      "195/195 [==============================] - 0s 2ms/step\n"
     ]
    },
    {
     "name": "stderr",
     "output_type": "stream",
     "text": [
      "[I 2024-11-30 22:49:16,526] Trial 3 finished with value: 0.8981866844530987 and parameters: {'units': 10, 'alpha': 0.09410206067668621, 'dropout': 0.28035576756209496, 'lr': 0.0004084873136882892, 'batch_size': 32, 'l2_kern': 3.9397577701407676e-05, 'l2_bias': 0.0012192163107784622}. Best is trial 2 with value: 0.8987292313511697.\n",
      "C:\\Users\\navee\\AppData\\Roaming\\Python\\Python37\\site-packages\\ipykernel_launcher.py:37: DeprecationWarning: KerasClassifier is deprecated, use Sci-Keras (https://github.com/adriangb/scikeras) instead. See https://www.adriangb.com/scikeras/stable/migration.html for help migrating.\n"
     ]
    },
    {
     "name": "stdout",
     "output_type": "stream",
     "text": [
      "195/195 [==============================] - 0s 2ms/step\n",
      "195/195 [==============================] - 0s 1ms/step\n",
      "195/195 [==============================] - 0s 996us/step\n"
     ]
    },
    {
     "name": "stderr",
     "output_type": "stream",
     "text": [
      "[I 2024-11-30 22:49:37,445] Trial 4 finished with value: 0.898675247819028 and parameters: {'units': 28, 'alpha': 0.042367981965607315, 'dropout': 0.33443362835243196, 'lr': 0.0008428414650990975, 'batch_size': 256, 'l2_kern': 0.00019630584692624634, 'l2_bias': 0.0005455929327739369}. Best is trial 2 with value: 0.8987292313511697.\n",
      "C:\\Users\\navee\\AppData\\Roaming\\Python\\Python37\\site-packages\\ipykernel_launcher.py:37: DeprecationWarning: KerasClassifier is deprecated, use Sci-Keras (https://github.com/adriangb/scikeras) instead. See https://www.adriangb.com/scikeras/stable/migration.html for help migrating.\n"
     ]
    },
    {
     "name": "stdout",
     "output_type": "stream",
     "text": [
      "195/195 [==============================] - 0s 1ms/step\n",
      "195/195 [==============================] - 0s 1ms/step\n",
      "195/195 [==============================] - 0s 753us/step\n"
     ]
    },
    {
     "name": "stderr",
     "output_type": "stream",
     "text": [
      "[I 2024-11-30 22:49:56,259] Trial 5 finished with value: 0.8976623844081922 and parameters: {'units': 24, 'alpha': 0.04241974322326813, 'dropout': 0.3725354747845236, 'lr': 0.0007228635614149539, 'batch_size': 1024, 'l2_kern': 4.8682498271379715e-05, 'l2_bias': 0.0013800632201066863}. Best is trial 2 with value: 0.8987292313511697.\n",
      "C:\\Users\\navee\\AppData\\Roaming\\Python\\Python37\\site-packages\\ipykernel_launcher.py:37: DeprecationWarning: KerasClassifier is deprecated, use Sci-Keras (https://github.com/adriangb/scikeras) instead. See https://www.adriangb.com/scikeras/stable/migration.html for help migrating.\n"
     ]
    },
    {
     "name": "stdout",
     "output_type": "stream",
     "text": [
      "195/195 [==============================] - 0s 1ms/step\n",
      "195/195 [==============================] - 0s 2ms/step\n",
      "195/195 [==============================] - 0s 2ms/step\n"
     ]
    },
    {
     "name": "stderr",
     "output_type": "stream",
     "text": [
      "[I 2024-11-30 22:51:33,064] Trial 6 finished with value: 0.8981452532230104 and parameters: {'units': 22, 'alpha': 0.026411830659409857, 'dropout': 0.25795779712182154, 'lr': 0.0003350211849519735, 'batch_size': 32, 'l2_kern': 0.002262926760166187, 'l2_bias': 0.0016008463876632172}. Best is trial 2 with value: 0.8987292313511697.\n",
      "C:\\Users\\navee\\AppData\\Roaming\\Python\\Python37\\site-packages\\ipykernel_launcher.py:37: DeprecationWarning: KerasClassifier is deprecated, use Sci-Keras (https://github.com/adriangb/scikeras) instead. See https://www.adriangb.com/scikeras/stable/migration.html for help migrating.\n"
     ]
    },
    {
     "name": "stdout",
     "output_type": "stream",
     "text": [
      "195/195 [==============================] - 0s 1ms/step\n",
      "195/195 [==============================] - 0s 2ms/step\n",
      "195/195 [==============================] - 0s 997us/step\n"
     ]
    },
    {
     "name": "stderr",
     "output_type": "stream",
     "text": [
      "[I 2024-11-30 22:52:43,524] Trial 7 finished with value: 0.8959912326590665 and parameters: {'units': 9, 'alpha': 0.03544868582252734, 'dropout': 0.40722698218723663, 'lr': 0.00013302230866888288, 'batch_size': 64, 'l2_kern': 4.863481465427699e-05, 'l2_bias': 0.0007078514905399595}. Best is trial 2 with value: 0.8987292313511697.\n",
      "C:\\Users\\navee\\AppData\\Roaming\\Python\\Python37\\site-packages\\ipykernel_launcher.py:37: DeprecationWarning: KerasClassifier is deprecated, use Sci-Keras (https://github.com/adriangb/scikeras) instead. See https://www.adriangb.com/scikeras/stable/migration.html for help migrating.\n"
     ]
    },
    {
     "name": "stdout",
     "output_type": "stream",
     "text": [
      "195/195 [==============================] - 0s 2ms/step\n",
      "195/195 [==============================] - 0s 1ms/step\n",
      "195/195 [==============================] - 0s 2ms/step\n"
     ]
    },
    {
     "name": "stderr",
     "output_type": "stream",
     "text": [
      "[I 2024-11-30 22:53:08,269] Trial 8 finished with value: 0.8980884067830283 and parameters: {'units': 4, 'alpha': 0.07703940339650368, 'dropout': 0.4774888037363271, 'lr': 0.0019812788253269057, 'batch_size': 256, 'l2_kern': 0.0039595753116978055, 'l2_bias': 0.00021360541224814365}. Best is trial 2 with value: 0.8987292313511697.\n",
      "C:\\Users\\navee\\AppData\\Roaming\\Python\\Python37\\site-packages\\ipykernel_launcher.py:37: DeprecationWarning: KerasClassifier is deprecated, use Sci-Keras (https://github.com/adriangb/scikeras) instead. See https://www.adriangb.com/scikeras/stable/migration.html for help migrating.\n"
     ]
    },
    {
     "name": "stdout",
     "output_type": "stream",
     "text": [
      "195/195 [==============================] - 0s 1ms/step\n",
      "195/195 [==============================] - 0s 1ms/step\n",
      "195/195 [==============================] - 0s 1ms/step\n"
     ]
    },
    {
     "name": "stderr",
     "output_type": "stream",
     "text": [
      "[I 2024-11-30 22:53:30,081] Trial 9 finished with value: 0.8986064892465304 and parameters: {'units': 22, 'alpha': 0.061155771871548976, 'dropout': 0.4668477513991536, 'lr': 0.0010505044218818702, 'batch_size': 512, 'l2_kern': 1.767038574956156e-05, 'l2_bias': 0.0007342978042217243}. Best is trial 2 with value: 0.8987292313511697.\n"
     ]
    },
    {
     "name": "stdout",
     "output_type": "stream",
     "text": [
      "Number of finished trials: 10\n",
      "Best trial:\n",
      "  Value: 0.8987292313511697\n",
      "    units: 32\n",
      "    alpha: 0.07490449958563623\n",
      "    dropout: 0.2609107164869424\n",
      "    lr: 0.0015819966605101774\n",
      "    batch_size: 1024\n",
      "    l2_kern: 5.954541576064576e-05\n",
      "    l2_bias: 4.863522990115782e-05\n"
     ]
    },
    {
     "name": "stderr",
     "output_type": "stream",
     "text": [
      "C:\\Users\\navee\\AppData\\Roaming\\Python\\Python37\\site-packages\\ipykernel_launcher.py:111: DeprecationWarning: KerasClassifier is deprecated, use Sci-Keras (https://github.com/adriangb/scikeras) instead. See https://www.adriangb.com/scikeras/stable/migration.html for help migrating.\n"
     ]
    },
    {
     "name": "stdout",
     "output_type": "stream",
     "text": [
      "117/117 [==============================] - 0s 2ms/step\n",
      "117/117 [==============================] - 0s 1ms/step\n",
      "117/117 [==============================] - 0s 1ms/step\n",
      "117/117 [==============================] - 0s 1ms/step\n",
      "117/117 [==============================] - 0s 1ms/step\n",
      "37/37 [==============================] - 0s 1ms/step\n",
      "37/37 [==============================] - 0s 853us/step\n",
      "37/37 [==============================] - 0s 1ms/step\n",
      "37/37 [==============================] - 0s 1ms/step\n",
      "37/37 [==============================] - 0s 3ms/step\n",
      "Train mean AUC score is 0.8983778762479033 while test mean AUC score is 0.8890161108074999.\n",
      "183/183 [==============================] - 0s 1ms/step\n",
      "              precision    recall  f1-score   support\n",
      "\n",
      "          No       0.88      0.92      0.90      4814\n",
      "         Yes       0.50      0.38      0.43      1021\n",
      "\n",
      "    accuracy                           0.83      5835\n",
      "   macro avg       0.69      0.65      0.67      5835\n",
      "weighted avg       0.81      0.83      0.82      5835\n",
      "\n"
     ]
    }
   ],
   "source": [
    "# Genetic Algorithm\n",
    "params_ga = tun.Tuning(n_trials=trials, sampler = optuna.samplers.NSGAIISampler())\n",
    "ga_scores = tun.Best_MLP_model(params_ga)\n",
    "ga_scores = ga_scores.rename(columns={'Tree-structured Parzen Estimator': 'Genetic Algorithm'})"
   ]
  },
  {
   "cell_type": "code",
   "execution_count": 9,
   "id": "740f83ff",
   "metadata": {},
   "outputs": [
    {
     "name": "stderr",
     "output_type": "stream",
     "text": [
      "C:\\Users\\navee\\AppData\\Roaming\\Python\\Python37\\site-packages\\ipykernel_launcher.py:1: ExperimentalWarning: QMCSampler is experimental (supported from v3.0.0). The interface can change in the future.\n",
      "  \"\"\"Entry point for launching an IPython kernel.\n",
      "[I 2024-11-30 22:54:24,865] A new study created in memory with name: no-name-cec1eb5d-ba4f-404b-a153-6cc23d52d950\n",
      "C:\\Users\\navee\\AppData\\Roaming\\Python\\Python37\\site-packages\\ipykernel_launcher.py:37: DeprecationWarning: KerasClassifier is deprecated, use Sci-Keras (https://github.com/adriangb/scikeras) instead. See https://www.adriangb.com/scikeras/stable/migration.html for help migrating.\n"
     ]
    },
    {
     "name": "stdout",
     "output_type": "stream",
     "text": [
      "195/195 [==============================] - 0s 1ms/step\n",
      "195/195 [==============================] - 1s 2ms/step\n",
      "195/195 [==============================] - 0s 1ms/step\n"
     ]
    },
    {
     "name": "stderr",
     "output_type": "stream",
     "text": [
      "[I 2024-11-30 22:55:33,458] Trial 0 finished with value: 0.8944395771198885 and parameters: {'units': 39, 'alpha': 0.06126248106746605, 'dropout': 0.41605226094560677, 'lr': 0.00012697432586899996, 'batch_size': 1024, 'l2_kern': 0.004555102760797048, 'l2_bias': 0.0019194490075575793}. Best is trial 0 with value: 0.8944395771198885.\n",
      "C:\\Users\\navee\\AppData\\Roaming\\Python\\Python37\\site-packages\\ipykernel_launcher.py:37: DeprecationWarning: KerasClassifier is deprecated, use Sci-Keras (https://github.com/adriangb/scikeras) instead. See https://www.adriangb.com/scikeras/stable/migration.html for help migrating.\n",
      "[W 2024-11-30 22:55:33,541] The parameter 'batch_size' in trial#1 is sampled independently by using `RandomSampler` instead of `QMCSampler` (optimization performance may be degraded). `QMCSampler` does not support dynamic search space or `CategoricalDistribution`. You can suppress this warning by setting `warn_independent_sampling` to `False` in the constructor of `QMCSampler`, if this independent sampling is intended behavior.\n",
      "[W 2024-11-30 22:55:33,544] The parameter 'l2_kern' in trial#1 is sampled independently by using `RandomSampler` instead of `QMCSampler` (optimization performance may be degraded). `QMCSampler` does not support dynamic search space or `CategoricalDistribution`. You can suppress this warning by setting `warn_independent_sampling` to `False` in the constructor of `QMCSampler`, if this independent sampling is intended behavior.\n",
      "[W 2024-11-30 22:55:33,545] The parameter 'l2_bias' in trial#1 is sampled independently by using `RandomSampler` instead of `QMCSampler` (optimization performance may be degraded). `QMCSampler` does not support dynamic search space or `CategoricalDistribution`. You can suppress this warning by setting `warn_independent_sampling` to `False` in the constructor of `QMCSampler`, if this independent sampling is intended behavior.\n"
     ]
    },
    {
     "name": "stdout",
     "output_type": "stream",
     "text": [
      "195/195 [==============================] - 0s 2ms/step\n",
      "195/195 [==============================] - 0s 1ms/step\n",
      "195/195 [==============================] - 1s 2ms/step\n"
     ]
    },
    {
     "name": "stderr",
     "output_type": "stream",
     "text": [
      "[I 2024-11-30 22:59:04,419] Trial 1 finished with value: 0.8899611050500167 and parameters: {'units': 2, 'alpha': 0.01, 'dropout': 0.2, 'lr': 5.000000000000004e-05, 'batch_size': 32, 'l2_kern': 0.004130471934372518, 'l2_bias': 0.002710377116273406}. Best is trial 0 with value: 0.8944395771198885.\n",
      "C:\\Users\\navee\\AppData\\Roaming\\Python\\Python37\\site-packages\\ipykernel_launcher.py:37: DeprecationWarning: KerasClassifier is deprecated, use Sci-Keras (https://github.com/adriangb/scikeras) instead. See https://www.adriangb.com/scikeras/stable/migration.html for help migrating.\n",
      "[W 2024-11-30 22:59:04,425] The parameter 'batch_size' in trial#2 is sampled independently by using `RandomSampler` instead of `QMCSampler` (optimization performance may be degraded). `QMCSampler` does not support dynamic search space or `CategoricalDistribution`. You can suppress this warning by setting `warn_independent_sampling` to `False` in the constructor of `QMCSampler`, if this independent sampling is intended behavior.\n"
     ]
    },
    {
     "name": "stdout",
     "output_type": "stream",
     "text": [
      "195/195 [==============================] - 0s 1ms/step\n",
      "195/195 [==============================] - 1s 2ms/step\n",
      "195/195 [==============================] - 0s 1ms/step\n"
     ]
    },
    {
     "name": "stderr",
     "output_type": "stream",
     "text": [
      "[I 2024-11-30 23:01:37,686] Trial 2 finished with value: 0.8970508882691365 and parameters: {'units': 21, 'alpha': 0.05500000000000001, 'dropout': 0.35, 'lr': 0.0007071067811865483, 'batch_size': 16, 'l2_kern': 0.00031622776601683783, 'l2_bias': 0.00031622776601683783}. Best is trial 2 with value: 0.8970508882691365.\n",
      "C:\\Users\\navee\\AppData\\Roaming\\Python\\Python37\\site-packages\\ipykernel_launcher.py:37: DeprecationWarning: KerasClassifier is deprecated, use Sci-Keras (https://github.com/adriangb/scikeras) instead. See https://www.adriangb.com/scikeras/stable/migration.html for help migrating.\n",
      "[W 2024-11-30 23:01:37,688] The parameter 'batch_size' in trial#3 is sampled independently by using `RandomSampler` instead of `QMCSampler` (optimization performance may be degraded). `QMCSampler` does not support dynamic search space or `CategoricalDistribution`. You can suppress this warning by setting `warn_independent_sampling` to `False` in the constructor of `QMCSampler`, if this independent sampling is intended behavior.\n"
     ]
    },
    {
     "name": "stdout",
     "output_type": "stream",
     "text": [
      "195/195 [==============================] - 0s 1ms/step\n",
      "195/195 [==============================] - 0s 1ms/step\n",
      "195/195 [==============================] - 0s 1ms/step\n"
     ]
    },
    {
     "name": "stderr",
     "output_type": "stream",
     "text": [
      "[I 2024-11-30 23:02:14,567] Trial 3 finished with value: 0.8981258745099502 and parameters: {'units': 31, 'alpha': 0.0325, 'dropout': 0.275, 'lr': 0.00018803015465431968, 'batch_size': 256, 'l2_kern': 0.0017782794100389236, 'l2_bias': 0.0017782794100389236}. Best is trial 3 with value: 0.8981258745099502.\n",
      "C:\\Users\\navee\\AppData\\Roaming\\Python\\Python37\\site-packages\\ipykernel_launcher.py:37: DeprecationWarning: KerasClassifier is deprecated, use Sci-Keras (https://github.com/adriangb/scikeras) instead. See https://www.adriangb.com/scikeras/stable/migration.html for help migrating.\n",
      "[W 2024-11-30 23:02:14,570] The parameter 'batch_size' in trial#4 is sampled independently by using `RandomSampler` instead of `QMCSampler` (optimization performance may be degraded). `QMCSampler` does not support dynamic search space or `CategoricalDistribution`. You can suppress this warning by setting `warn_independent_sampling` to `False` in the constructor of `QMCSampler`, if this independent sampling is intended behavior.\n"
     ]
    },
    {
     "name": "stdout",
     "output_type": "stream",
     "text": [
      "195/195 [==============================] - 0s 1ms/step\n",
      "195/195 [==============================] - 0s 1ms/step\n",
      "195/195 [==============================] - 0s 1ms/step\n"
     ]
    },
    {
     "name": "stderr",
     "output_type": "stream",
     "text": [
      "[I 2024-11-30 23:02:24,418] Trial 4 finished with value: 0.898760774080977 and parameters: {'units': 11, 'alpha': 0.0775, 'dropout': 0.425, 'lr': 0.002659147948472495, 'batch_size': 1024, 'l2_kern': 5.6234132519034893e-05, 'l2_bias': 5.6234132519034893e-05}. Best is trial 4 with value: 0.898760774080977.\n",
      "C:\\Users\\navee\\AppData\\Roaming\\Python\\Python37\\site-packages\\ipykernel_launcher.py:37: DeprecationWarning: KerasClassifier is deprecated, use Sci-Keras (https://github.com/adriangb/scikeras) instead. See https://www.adriangb.com/scikeras/stable/migration.html for help migrating.\n",
      "[W 2024-11-30 23:02:24,421] The parameter 'batch_size' in trial#5 is sampled independently by using `RandomSampler` instead of `QMCSampler` (optimization performance may be degraded). `QMCSampler` does not support dynamic search space or `CategoricalDistribution`. You can suppress this warning by setting `warn_independent_sampling` to `False` in the constructor of `QMCSampler`, if this independent sampling is intended behavior.\n"
     ]
    },
    {
     "name": "stdout",
     "output_type": "stream",
     "text": [
      "195/195 [==============================] - 0s 1ms/step\n",
      "195/195 [==============================] - 0s 1ms/step\n",
      "195/195 [==============================] - 0s 1ms/step\n"
     ]
    },
    {
     "name": "stderr",
     "output_type": "stream",
     "text": [
      "[I 2024-11-30 23:02:37,264] Trial 5 finished with value: 0.8979814840665094 and parameters: {'units': 16, 'alpha': 0.043750000000000004, 'dropout': 0.3875, 'lr': 0.005156692688606234, 'batch_size': 256, 'l2_kern': 0.00013335214321633237, 'l2_bias': 2.3713737056616547e-05}. Best is trial 4 with value: 0.898760774080977.\n",
      "C:\\Users\\navee\\AppData\\Roaming\\Python\\Python37\\site-packages\\ipykernel_launcher.py:37: DeprecationWarning: KerasClassifier is deprecated, use Sci-Keras (https://github.com/adriangb/scikeras) instead. See https://www.adriangb.com/scikeras/stable/migration.html for help migrating.\n",
      "[W 2024-11-30 23:02:37,270] The parameter 'batch_size' in trial#6 is sampled independently by using `RandomSampler` instead of `QMCSampler` (optimization performance may be degraded). `QMCSampler` does not support dynamic search space or `CategoricalDistribution`. You can suppress this warning by setting `warn_independent_sampling` to `False` in the constructor of `QMCSampler`, if this independent sampling is intended behavior.\n"
     ]
    },
    {
     "name": "stdout",
     "output_type": "stream",
     "text": [
      "195/195 [==============================] - 0s 2ms/step\n",
      "195/195 [==============================] - 0s 1ms/step\n",
      "195/195 [==============================] - 0s 1ms/step\n"
     ]
    },
    {
     "name": "stderr",
     "output_type": "stream",
     "text": [
      "[I 2024-11-30 23:04:36,128] Trial 6 finished with value: 0.8982932580226396 and parameters: {'units': 36, 'alpha': 0.08875000000000001, 'dropout': 0.23750000000000002, 'lr': 0.00036463323686085564, 'batch_size': 16, 'l2_kern': 0.004216965034285825, 'l2_bias': 0.0007498942093324562}. Best is trial 4 with value: 0.898760774080977.\n",
      "C:\\Users\\navee\\AppData\\Roaming\\Python\\Python37\\site-packages\\ipykernel_launcher.py:37: DeprecationWarning: KerasClassifier is deprecated, use Sci-Keras (https://github.com/adriangb/scikeras) instead. See https://www.adriangb.com/scikeras/stable/migration.html for help migrating.\n",
      "[W 2024-11-30 23:04:36,135] The parameter 'batch_size' in trial#7 is sampled independently by using `RandomSampler` instead of `QMCSampler` (optimization performance may be degraded). `QMCSampler` does not support dynamic search space or `CategoricalDistribution`. You can suppress this warning by setting `warn_independent_sampling` to `False` in the constructor of `QMCSampler`, if this independent sampling is intended behavior.\n"
     ]
    },
    {
     "name": "stdout",
     "output_type": "stream",
     "text": [
      "195/195 [==============================] - 0s 1ms/step\n",
      "195/195 [==============================] - 0s 1ms/step\n",
      "195/195 [==============================] - 0s 2ms/step\n"
     ]
    },
    {
     "name": "stderr",
     "output_type": "stream",
     "text": [
      "[I 2024-11-30 23:04:53,510] Trial 7 finished with value: 0.8981650047307689 and parameters: {'units': 26, 'alpha': 0.02125, 'dropout': 0.4625, 'lr': 0.0013712408783810375, 'batch_size': 1024, 'l2_kern': 0.0007498942093324562, 'l2_bias': 0.004216965034285825}. Best is trial 4 with value: 0.898760774080977.\n",
      "C:\\Users\\navee\\AppData\\Roaming\\Python\\Python37\\site-packages\\ipykernel_launcher.py:37: DeprecationWarning: KerasClassifier is deprecated, use Sci-Keras (https://github.com/adriangb/scikeras) instead. See https://www.adriangb.com/scikeras/stable/migration.html for help migrating.\n",
      "[W 2024-11-30 23:04:53,513] The parameter 'batch_size' in trial#8 is sampled independently by using `RandomSampler` instead of `QMCSampler` (optimization performance may be degraded). `QMCSampler` does not support dynamic search space or `CategoricalDistribution`. You can suppress this warning by setting `warn_independent_sampling` to `False` in the constructor of `QMCSampler`, if this independent sampling is intended behavior.\n"
     ]
    },
    {
     "name": "stdout",
     "output_type": "stream",
     "text": [
      "195/195 [==============================] - 0s 1ms/step\n",
      "195/195 [==============================] - 0s 1ms/step\n",
      "195/195 [==============================] - 0s 1ms/step\n"
     ]
    },
    {
     "name": "stderr",
     "output_type": "stream",
     "text": [
      "[I 2024-11-30 23:05:53,954] Trial 8 finished with value: 0.8400505531050616 and parameters: {'units': 6, 'alpha': 0.06625, 'dropout': 0.3125, 'lr': 9.696137237434293e-05, 'batch_size': 512, 'l2_kern': 2.3713737056616547e-05, 'l2_bias': 0.00013335214321633237}. Best is trial 4 with value: 0.898760774080977.\n",
      "C:\\Users\\navee\\AppData\\Roaming\\Python\\Python37\\site-packages\\ipykernel_launcher.py:37: DeprecationWarning: KerasClassifier is deprecated, use Sci-Keras (https://github.com/adriangb/scikeras) instead. See https://www.adriangb.com/scikeras/stable/migration.html for help migrating.\n",
      "[W 2024-11-30 23:05:53,961] The parameter 'batch_size' in trial#9 is sampled independently by using `RandomSampler` instead of `QMCSampler` (optimization performance may be degraded). `QMCSampler` does not support dynamic search space or `CategoricalDistribution`. You can suppress this warning by setting `warn_independent_sampling` to `False` in the constructor of `QMCSampler`, if this independent sampling is intended behavior.\n"
     ]
    },
    {
     "name": "stdout",
     "output_type": "stream",
     "text": [
      "195/195 [==============================] - 0s 1ms/step\n",
      "195/195 [==============================] - 0s 982us/step\n",
      "195/195 [==============================] - 0s 1ms/step\n"
     ]
    },
    {
     "name": "stderr",
     "output_type": "stream",
     "text": [
      "[I 2024-11-30 23:06:20,511] Trial 9 finished with value: 0.89766088389536 and parameters: {'units': 9, 'alpha': 0.038125000000000006, 'dropout': 0.48125, 'lr': 0.000507774196302167, 'batch_size': 128, 'l2_kern': 0.00048696752516586293, 'l2_bias': 8.659643233600651e-05}. Best is trial 4 with value: 0.898760774080977.\n"
     ]
    },
    {
     "name": "stdout",
     "output_type": "stream",
     "text": [
      "Number of finished trials: 10\n",
      "Best trial:\n",
      "  Value: 0.898760774080977\n",
      "    units: 11\n",
      "    alpha: 0.0775\n",
      "    dropout: 0.425\n",
      "    lr: 0.002659147948472495\n",
      "    batch_size: 1024\n",
      "    l2_kern: 5.6234132519034893e-05\n",
      "    l2_bias: 5.6234132519034893e-05\n"
     ]
    },
    {
     "name": "stderr",
     "output_type": "stream",
     "text": [
      "C:\\Users\\navee\\AppData\\Roaming\\Python\\Python37\\site-packages\\ipykernel_launcher.py:111: DeprecationWarning: KerasClassifier is deprecated, use Sci-Keras (https://github.com/adriangb/scikeras) instead. See https://www.adriangb.com/scikeras/stable/migration.html for help migrating.\n"
     ]
    },
    {
     "name": "stdout",
     "output_type": "stream",
     "text": [
      "117/117 [==============================] - 0s 1ms/step\n",
      "117/117 [==============================] - 0s 983us/step\n",
      "117/117 [==============================] - 0s 809us/step\n",
      "117/117 [==============================] - 0s 1ms/step\n",
      "117/117 [==============================] - 0s 2ms/step\n",
      "37/37 [==============================] - 0s 1ms/step\n",
      "37/37 [==============================] - 0s 932us/step\n",
      "37/37 [==============================] - 0s 834us/step\n",
      "37/37 [==============================] - 0s 2ms/step\n",
      "37/37 [==============================] - 0s 992us/step\n",
      "Train mean AUC score is 0.8978082650013318 while test mean AUC score is 0.8875396786185347.\n",
      "183/183 [==============================] - 0s 1ms/step\n",
      "              precision    recall  f1-score   support\n",
      "\n",
      "          No       0.87      0.93      0.90      4814\n",
      "         Yes       0.51      0.35      0.42      1021\n",
      "\n",
      "    accuracy                           0.83      5835\n",
      "   macro avg       0.69      0.64      0.66      5835\n",
      "weighted avg       0.81      0.83      0.81      5835\n",
      "\n"
     ]
    }
   ],
   "source": [
    "params_mc = tun.Tuning(n_trials=trials, sampler = optuna.samplers.QMCSampler())\n",
    "mc_scores = tun.Best_MLP_model(params_mc)\n",
    "mc_scores = mc_scores.rename(columns={'Tree-structured Parzen Estimator': 'Quasi Monte Carlo'})"
   ]
  },
  {
   "cell_type": "code",
   "execution_count": 11,
   "id": "5d452014",
   "metadata": {},
   "outputs": [
    {
     "name": "stderr",
     "output_type": "stream",
     "text": [
      "[I 2024-11-30 23:19:27,714] A new study created in memory with name: no-name-6c7d667a-61e5-4f10-952f-181ede088765\n",
      "C:\\Users\\navee\\AppData\\Roaming\\Python\\Python37\\site-packages\\ipykernel_launcher.py:37: DeprecationWarning: KerasClassifier is deprecated, use Sci-Keras (https://github.com/adriangb/scikeras) instead. See https://www.adriangb.com/scikeras/stable/migration.html for help migrating.\n"
     ]
    },
    {
     "name": "stdout",
     "output_type": "stream",
     "text": [
      "195/195 [==============================] - 0s 1ms/step\n",
      "195/195 [==============================] - 0s 612us/step\n",
      "195/195 [==============================] - 0s 608us/step\n"
     ]
    },
    {
     "name": "stderr",
     "output_type": "stream",
     "text": [
      "[I 2024-11-30 23:20:45,721] Trial 0 finished with value: 0.8973120267197405 and parameters: {'units': 16, 'alpha': 0.0490594005454528, 'dropout': 0.26761632983581507, 'lr': 9.00287498476998e-05, 'batch_size': 32, 'l2_kern': 0.0005197021996709356, 'l2_bias': 0.0008995266291855359}. Best is trial 0 with value: 0.8973120267197405.\n",
      "C:\\Users\\navee\\AppData\\Roaming\\Python\\Python37\\site-packages\\ipykernel_launcher.py:37: DeprecationWarning: KerasClassifier is deprecated, use Sci-Keras (https://github.com/adriangb/scikeras) instead. See https://www.adriangb.com/scikeras/stable/migration.html for help migrating.\n"
     ]
    },
    {
     "name": "stdout",
     "output_type": "stream",
     "text": [
      "195/195 [==============================] - 0s 2ms/step\n",
      "195/195 [==============================] - 0s 2ms/step\n",
      "195/195 [==============================] - 0s 1ms/step\n"
     ]
    },
    {
     "name": "stderr",
     "output_type": "stream",
     "text": [
      "[I 2024-11-30 23:21:12,722] Trial 1 finished with value: 0.8969949426166393 and parameters: {'units': 25, 'alpha': 0.08591665000402811, 'dropout': 0.47567698977505835, 'lr': 0.0045490063982874165, 'batch_size': 128, 'l2_kern': 7.660079015649083e-05, 'l2_bias': 0.005544761904417827}. Best is trial 0 with value: 0.8973120267197405.\n",
      "C:\\Users\\navee\\AppData\\Roaming\\Python\\Python37\\site-packages\\ipykernel_launcher.py:37: DeprecationWarning: KerasClassifier is deprecated, use Sci-Keras (https://github.com/adriangb/scikeras) instead. See https://www.adriangb.com/scikeras/stable/migration.html for help migrating.\n"
     ]
    },
    {
     "name": "stdout",
     "output_type": "stream",
     "text": [
      "195/195 [==============================] - 1s 2ms/step\n",
      "195/195 [==============================] - 0s 1ms/step\n",
      "195/195 [==============================] - 0s 2ms/step\n"
     ]
    },
    {
     "name": "stderr",
     "output_type": "stream",
     "text": [
      "[I 2024-11-30 23:21:43,447] Trial 2 finished with value: 0.8960922728720465 and parameters: {'units': 28, 'alpha': 0.010646151650994418, 'dropout': 0.22079878886406445, 'lr': 0.003871458263877747, 'batch_size': 64, 'l2_kern': 8.72609066086752e-05, 'l2_bias': 0.0008324680234867484}. Best is trial 0 with value: 0.8973120267197405.\n",
      "C:\\Users\\navee\\AppData\\Roaming\\Python\\Python37\\site-packages\\ipykernel_launcher.py:37: DeprecationWarning: KerasClassifier is deprecated, use Sci-Keras (https://github.com/adriangb/scikeras) instead. See https://www.adriangb.com/scikeras/stable/migration.html for help migrating.\n"
     ]
    },
    {
     "name": "stdout",
     "output_type": "stream",
     "text": [
      "195/195 [==============================] - 0s 765us/step\n",
      "195/195 [==============================] - 0s 669us/step\n",
      "195/195 [==============================] - 0s 570us/step\n"
     ]
    },
    {
     "name": "stderr",
     "output_type": "stream",
     "text": [
      "[I 2024-11-30 23:22:00,703] Trial 3 finished with value: 0.8979855907769251 and parameters: {'units': 5, 'alpha': 0.03948181859265782, 'dropout': 0.2072724771994514, 'lr': 0.002875940545373594, 'batch_size': 64, 'l2_kern': 0.007209303541239616, 'l2_bias': 0.0005060260765474327}. Best is trial 3 with value: 0.8979855907769251.\n",
      "C:\\Users\\navee\\AppData\\Roaming\\Python\\Python37\\site-packages\\ipykernel_launcher.py:37: DeprecationWarning: KerasClassifier is deprecated, use Sci-Keras (https://github.com/adriangb/scikeras) instead. See https://www.adriangb.com/scikeras/stable/migration.html for help migrating.\n"
     ]
    },
    {
     "name": "stdout",
     "output_type": "stream",
     "text": [
      "195/195 [==============================] - 0s 1ms/step\n",
      "195/195 [==============================] - 0s 2ms/step\n",
      "195/195 [==============================] - 0s 975us/step\n"
     ]
    },
    {
     "name": "stderr",
     "output_type": "stream",
     "text": [
      "[I 2024-11-30 23:22:30,214] Trial 4 finished with value: 0.8974189206626125 and parameters: {'units': 13, 'alpha': 0.014304155615237336, 'dropout': 0.30726955519104804, 'lr': 0.0002547292513079497, 'batch_size': 128, 'l2_kern': 6.629750184570837e-05, 'l2_bias': 0.007847711227019962}. Best is trial 3 with value: 0.8979855907769251.\n",
      "C:\\Users\\navee\\AppData\\Roaming\\Python\\Python37\\site-packages\\ipykernel_launcher.py:37: DeprecationWarning: KerasClassifier is deprecated, use Sci-Keras (https://github.com/adriangb/scikeras) instead. See https://www.adriangb.com/scikeras/stable/migration.html for help migrating.\n"
     ]
    },
    {
     "name": "stdout",
     "output_type": "stream",
     "text": [
      "195/195 [==============================] - 0s 982us/step\n",
      "195/195 [==============================] - 0s 892us/step\n",
      "195/195 [==============================] - 1s 2ms/step\n"
     ]
    },
    {
     "name": "stderr",
     "output_type": "stream",
     "text": [
      "[I 2024-11-30 23:25:44,007] Trial 5 finished with value: 0.8966175833816917 and parameters: {'units': 15, 'alpha': 0.01177194766961919, 'dropout': 0.3862797359720435, 'lr': 5.3382015887324406e-05, 'batch_size': 32, 'l2_kern': 0.0013803186915395818, 'l2_bias': 4.079083630888884e-05}. Best is trial 3 with value: 0.8979855907769251.\n",
      "C:\\Users\\navee\\AppData\\Roaming\\Python\\Python37\\site-packages\\ipykernel_launcher.py:37: DeprecationWarning: KerasClassifier is deprecated, use Sci-Keras (https://github.com/adriangb/scikeras) instead. See https://www.adriangb.com/scikeras/stable/migration.html for help migrating.\n"
     ]
    },
    {
     "name": "stdout",
     "output_type": "stream",
     "text": [
      "195/195 [==============================] - 0s 1ms/step\n",
      "195/195 [==============================] - 0s 1ms/step\n",
      "195/195 [==============================] - 0s 1ms/step\n"
     ]
    },
    {
     "name": "stderr",
     "output_type": "stream",
     "text": [
      "[I 2024-11-30 23:26:38,791] Trial 6 finished with value: 0.7788603901506161 and parameters: {'units': 4, 'alpha': 0.027355097199074856, 'dropout': 0.32480412082119303, 'lr': 6.969321318418787e-05, 'batch_size': 1024, 'l2_kern': 0.002060310104848317, 'l2_bias': 0.00014357414405137507}. Best is trial 3 with value: 0.8979855907769251.\n",
      "C:\\Users\\navee\\AppData\\Roaming\\Python\\Python37\\site-packages\\ipykernel_launcher.py:37: DeprecationWarning: KerasClassifier is deprecated, use Sci-Keras (https://github.com/adriangb/scikeras) instead. See https://www.adriangb.com/scikeras/stable/migration.html for help migrating.\n"
     ]
    },
    {
     "name": "stdout",
     "output_type": "stream",
     "text": [
      "195/195 [==============================] - 2s 7ms/step\n",
      "195/195 [==============================] - 0s 1ms/step\n",
      "195/195 [==============================] - 0s 2ms/step\n"
     ]
    },
    {
     "name": "stderr",
     "output_type": "stream",
     "text": [
      "[I 2024-11-30 23:28:27,370] Trial 7 finished with value: 0.8981432743502182 and parameters: {'units': 30, 'alpha': 0.07240223122280215, 'dropout': 0.47269628242210304, 'lr': 0.00028571636588126895, 'batch_size': 32, 'l2_kern': 0.0016884643113742864, 'l2_bias': 0.0015510247178867332}. Best is trial 7 with value: 0.8981432743502182.\n",
      "C:\\Users\\navee\\AppData\\Roaming\\Python\\Python37\\site-packages\\ipykernel_launcher.py:37: DeprecationWarning: KerasClassifier is deprecated, use Sci-Keras (https://github.com/adriangb/scikeras) instead. See https://www.adriangb.com/scikeras/stable/migration.html for help migrating.\n"
     ]
    },
    {
     "name": "stdout",
     "output_type": "stream",
     "text": [
      "195/195 [==============================] - 0s 1ms/step\n",
      "195/195 [==============================] - 0s 691us/step\n",
      "195/195 [==============================] - 0s 2ms/step\n"
     ]
    },
    {
     "name": "stderr",
     "output_type": "stream",
     "text": [
      "[I 2024-11-30 23:29:34,395] Trial 8 finished with value: 0.8982967607110076 and parameters: {'units': 9, 'alpha': 0.05104577480799235, 'dropout': 0.2861620153664307, 'lr': 0.006860003565311547, 'batch_size': 128, 'l2_kern': 3.175228128647522e-05, 'l2_bias': 0.0007000271782982722}. Best is trial 8 with value: 0.8982967607110076.\n",
      "C:\\Users\\navee\\AppData\\Roaming\\Python\\Python37\\site-packages\\ipykernel_launcher.py:37: DeprecationWarning: KerasClassifier is deprecated, use Sci-Keras (https://github.com/adriangb/scikeras) instead. See https://www.adriangb.com/scikeras/stable/migration.html for help migrating.\n"
     ]
    },
    {
     "name": "stdout",
     "output_type": "stream",
     "text": [
      "195/195 [==============================] - 0s 873us/step\n",
      "195/195 [==============================] - 0s 627us/step\n",
      "195/195 [==============================] - 0s 688us/step\n"
     ]
    },
    {
     "name": "stderr",
     "output_type": "stream",
     "text": [
      "[I 2024-11-30 23:30:20,546] Trial 9 finished with value: 0.8959809425752949 and parameters: {'units': 18, 'alpha': 0.092318538742708, 'dropout': 0.29510937209071253, 'lr': 0.0001688365683074893, 'batch_size': 256, 'l2_kern': 0.0012362047862405584, 'l2_bias': 0.006914483027083505}. Best is trial 8 with value: 0.8982967607110076.\n"
     ]
    },
    {
     "name": "stdout",
     "output_type": "stream",
     "text": [
      "Number of finished trials: 10\n",
      "Best trial:\n",
      "  Value: 0.8982967607110076\n",
      "    units: 9\n",
      "    alpha: 0.05104577480799235\n",
      "    dropout: 0.2861620153664307\n",
      "    lr: 0.006860003565311547\n",
      "    batch_size: 128\n",
      "    l2_kern: 3.175228128647522e-05\n",
      "    l2_bias: 0.0007000271782982722\n"
     ]
    },
    {
     "name": "stderr",
     "output_type": "stream",
     "text": [
      "C:\\Users\\navee\\AppData\\Roaming\\Python\\Python37\\site-packages\\ipykernel_launcher.py:111: DeprecationWarning: KerasClassifier is deprecated, use Sci-Keras (https://github.com/adriangb/scikeras) instead. See https://www.adriangb.com/scikeras/stable/migration.html for help migrating.\n"
     ]
    },
    {
     "name": "stdout",
     "output_type": "stream",
     "text": [
      "117/117 [==============================] - 0s 704us/step\n",
      "117/117 [==============================] - 0s 1ms/step\n",
      "117/117 [==============================] - 0s 685us/step\n",
      "117/117 [==============================] - 1s 1ms/step\n",
      "117/117 [==============================] - 1s 1ms/step\n",
      "37/37 [==============================] - 0s 1ms/step\n",
      "37/37 [==============================] - 0s 845us/step\n",
      "37/37 [==============================] - 0s 700us/step\n",
      "37/37 [==============================] - 0s 2ms/step\n",
      "37/37 [==============================] - 0s 2ms/step\n",
      "Train mean AUC score is 0.8980690469015077 while test mean AUC score is 0.88851664552693.\n",
      "183/183 [==============================] - 0s 1ms/step\n",
      "              precision    recall  f1-score   support\n",
      "\n",
      "          No       0.87      0.92      0.90      4814\n",
      "         Yes       0.50      0.37      0.42      1021\n",
      "\n",
      "    accuracy                           0.82      5835\n",
      "   macro avg       0.69      0.64      0.66      5835\n",
      "weighted avg       0.81      0.82      0.81      5835\n",
      "\n"
     ]
    }
   ],
   "source": [
    "# Random Sampler\n",
    "params_rs = tun.Tuning(n_trials=trials, sampler = optuna.samplers.RandomSampler())\n",
    "rs_scores = tun.Best_MLP_model(params_rs)\n",
    "rs_scores = rs_scores.rename(columns={'Tree-structured Parzen Estimator': 'Random Sampler'})"
   ]
  },
  {
   "cell_type": "code",
   "execution_count": 13,
   "id": "15376031",
   "metadata": {},
   "outputs": [
    {
     "data": {
      "text/html": [
       "<div>\n",
       "<style scoped>\n",
       "    .dataframe tbody tr th:only-of-type {\n",
       "        vertical-align: middle;\n",
       "    }\n",
       "\n",
       "    .dataframe tbody tr th {\n",
       "        vertical-align: top;\n",
       "    }\n",
       "\n",
       "    .dataframe thead th {\n",
       "        text-align: right;\n",
       "    }\n",
       "</style>\n",
       "<table border=\"1\" class=\"dataframe\">\n",
       "  <thead>\n",
       "    <tr style=\"text-align: right;\">\n",
       "      <th></th>\n",
       "      <th>Tree-structured Parzen Estimator</th>\n",
       "      <th>Random Sampler</th>\n",
       "      <th>Genetic Algorithm</th>\n",
       "      <th>Quasi Monte Carlo</th>\n",
       "    </tr>\n",
       "  </thead>\n",
       "  <tbody>\n",
       "    <tr>\n",
       "      <th>Accuracy</th>\n",
       "      <td>0.826050</td>\n",
       "      <td>0.824336</td>\n",
       "      <td>0.825536</td>\n",
       "      <td>0.826564</td>\n",
       "    </tr>\n",
       "    <tr>\n",
       "      <th>Precision</th>\n",
       "      <td>0.503958</td>\n",
       "      <td>0.497354</td>\n",
       "      <td>0.501926</td>\n",
       "      <td>0.506311</td>\n",
       "    </tr>\n",
       "    <tr>\n",
       "      <th>Recall</th>\n",
       "      <td>0.374143</td>\n",
       "      <td>0.368266</td>\n",
       "      <td>0.382958</td>\n",
       "      <td>0.353575</td>\n",
       "    </tr>\n",
       "    <tr>\n",
       "      <th>F1-score</th>\n",
       "      <td>0.429455</td>\n",
       "      <td>0.423185</td>\n",
       "      <td>0.434444</td>\n",
       "      <td>0.416378</td>\n",
       "    </tr>\n",
       "    <tr>\n",
       "      <th>AUC</th>\n",
       "      <td>0.648019</td>\n",
       "      <td>0.644665</td>\n",
       "      <td>0.651180</td>\n",
       "      <td>0.640227</td>\n",
       "    </tr>\n",
       "    <tr>\n",
       "      <th>H-measure</th>\n",
       "      <td>0.169636</td>\n",
       "      <td>0.163334</td>\n",
       "      <td>0.173336</td>\n",
       "      <td>0.159849</td>\n",
       "    </tr>\n",
       "  </tbody>\n",
       "</table>\n",
       "</div>"
      ],
      "text/plain": [
       "           Tree-structured Parzen Estimator  Random Sampler  \\\n",
       "Accuracy                           0.826050        0.824336   \n",
       "Precision                          0.503958        0.497354   \n",
       "Recall                             0.374143        0.368266   \n",
       "F1-score                           0.429455        0.423185   \n",
       "AUC                                0.648019        0.644665   \n",
       "H-measure                          0.169636        0.163334   \n",
       "\n",
       "           Genetic Algorithm  Quasi Monte Carlo  \n",
       "Accuracy            0.825536           0.826564  \n",
       "Precision           0.501926           0.506311  \n",
       "Recall              0.382958           0.353575  \n",
       "F1-score            0.434444           0.416378  \n",
       "AUC                 0.651180           0.640227  \n",
       "H-measure           0.173336           0.159849  "
      ]
     },
     "execution_count": 13,
     "metadata": {},
     "output_type": "execute_result"
    }
   ],
   "source": [
    "all_scores = pd.concat([tpe_scores, rs_scores, ga_scores, mc_scores], axis =1)\n",
    "all_scores"
   ]
  },
  {
   "cell_type": "code",
   "execution_count": 16,
   "id": "39ebffb7",
   "metadata": {},
   "outputs": [],
   "source": [
    "# Save the clean dataset\n",
    "\n",
    "all_scores.to_csv('credit_risk_dataset_1_Layer_scores.csv', index=False)\n"
   ]
  },
  {
   "cell_type": "code",
   "execution_count": null,
   "id": "2c2147f0",
   "metadata": {},
   "outputs": [],
   "source": []
  }
 ],
 "metadata": {
  "kernelspec": {
   "display_name": "Python 3 (ipykernel)",
   "language": "python",
   "name": "python3"
  },
  "language_info": {
   "codemirror_mode": {
    "name": "ipython",
    "version": 3
   },
   "file_extension": ".py",
   "mimetype": "text/x-python",
   "name": "python",
   "nbconvert_exporter": "python",
   "pygments_lexer": "ipython3",
   "version": "3.7.5"
  }
 },
 "nbformat": 4,
 "nbformat_minor": 5
}
